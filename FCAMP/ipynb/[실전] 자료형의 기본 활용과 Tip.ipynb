{
 "cells": [
  {
   "cell_type": "markdown",
   "metadata": {},
   "source": [
    "## 자료형의 기본 활용과 Tip\n",
    "- single: interger, float, string, boolean\n",
    "- container: list, Tuple, Dictionary, Set"
   ]
  },
  {
   "cell_type": "markdown",
   "metadata": {},
   "source": [
    "1. Integer\n",
    "- 수의 크기 제한이 딱히 없음 -> overflow 걱정을 줄일 수 있음\n",
    "- str()로 쉬운 형변환\n",
    "- 연산/함수 사용 시, float으로 변환되는 경우를 잘 살피기 \n",
    "- 나눗셈은 /가 아닌 //로 안전하게 나누자(or divmod 사용)"
   ]
  },
  {
   "cell_type": "code",
   "execution_count": 1,
   "metadata": {},
   "outputs": [
    {
     "name": "stdout",
     "output_type": "stream",
     "text": [
      "1\n",
      "1267650600228229401496703205376\n",
      "123 <class 'str'>\n"
     ]
    }
   ],
   "source": [
    "# 큰 수의 연산을 해도 제한이 딱히 없음, str로 쉽게 바꿀 수 있음\n",
    "a = 1\n",
    "print(a)\n",
    "print(2**100)\n",
    "print(str(123), type(str(123)))"
   ]
  },
  {
   "cell_type": "code",
   "execution_count": 2,
   "metadata": {},
   "outputs": [
    {
     "name": "stdout",
     "output_type": "stream",
     "text": [
      "<class 'int'> <class 'float'>\n"
     ]
    }
   ],
   "source": [
    "#//로 나누면 형안바뀜, /로 나누면 형이 float으로 바뀜\n",
    "print(type(3//3), type(3/3)) "
   ]
  },
  {
   "cell_type": "code",
   "execution_count": 3,
   "metadata": {},
   "outputs": [
    {
     "data": {
      "text/plain": [
       "(2, 1)"
      ]
     },
     "execution_count": 3,
     "metadata": {},
     "output_type": "execute_result"
    }
   ],
   "source": [
    "# 몫과 나머지를 출력하는 divmod 함수를 사용해도 좋다\n",
    "divmod(7,3) "
   ]
  },
  {
   "cell_type": "markdown",
   "metadata": {},
   "source": [
    "2. Float\n",
    "- 일단 연산에서는 쓰지말자(실수 오차가 종종 남)\n",
    "- 유리수 연산은 될 수 있으면 tuple 등으로 분자/분모를 따로 처리하자 (ex. 1/3 이면 (1, 3) 이런식으로 저장)"
   ]
  },
  {
   "cell_type": "code",
   "execution_count": 4,
   "metadata": {},
   "outputs": [
    {
     "name": "stdout",
     "output_type": "stream",
     "text": [
      "False\n",
      "0.3333333333333333\n",
      "(1, 3) (2, 3)\n"
     ]
    }
   ],
   "source": [
    "# 연산 시 실수 오차가 남\n",
    "print(0.1 * 3 == 0.3)\n",
    "\n",
    "# 유리수는 튜플로 나눠서 쓰자\n",
    "print(1/3)\n",
    "print((1,3), (2,3))"
   ]
  },
  {
   "cell_type": "markdown",
   "metadata": {},
   "source": [
    "3. String\n",
    "- immutable 변수: list로 변환하여 사용하기\n",
    "- +연산과 *연산 조심하기: join() method 활용하기\n",
    "- .split(), .replace()등 다양한 method 활용하기\n",
    "- Slicing 자유로움\n",
    "- Char를 ord와 chr로 변환하기"
   ]
  },
  {
   "cell_type": "code",
   "execution_count": 5,
   "metadata": {},
   "outputs": [
    {
     "name": "stdout",
     "output_type": "stream",
     "text": [
      "Yoontae Park\n",
      "abcedf abcabcabc\n"
     ]
    }
   ],
   "source": [
    "# 바꾸려고 해도 안바뀜\n",
    "s = 'Yoontae Park'\n",
    "for i in s:\n",
    "    i = 'c'\n",
    "print(s)\n",
    "\n",
    "# 더하거나 곱하면 그냥 바로 뒤로 합쳐짐\n",
    "s = 'abc'\n",
    "b = 'edf'\n",
    "print(s+b, s*3)"
   ]
  },
  {
   "cell_type": "code",
   "execution_count": 6,
   "metadata": {},
   "outputs": [
    {
     "name": "stdout",
     "output_type": "stream",
     "text": [
      "Wall time: 0 ns\n"
     ]
    }
   ],
   "source": [
    "# 다만 합치는 경우에는 연산보다는 .join()을 쓰자\n",
    "%time\n",
    "s = ''\n",
    "for i in range(10000):\n",
    "    s += str(i)"
   ]
  },
  {
   "cell_type": "code",
   "execution_count": 7,
   "metadata": {},
   "outputs": [
    {
     "name": "stdout",
     "output_type": "stream",
     "text": [
      "Wall time: 0 ns\n"
     ]
    }
   ],
   "source": [
    "%time\n",
    "s = ''\n",
    "s = s.join([str(i) for i in range(10000)])"
   ]
  },
  {
   "cell_type": "code",
   "execution_count": 8,
   "metadata": {},
   "outputs": [
    {
     "name": "stdout",
     "output_type": "stream",
     "text": [
      "A\n",
      "65\n"
     ]
    }
   ],
   "source": [
    "print(chr(65)) # A\n",
    "print(ord('A')) # 65"
   ]
  },
  {
   "cell_type": "markdown",
   "metadata": {},
   "source": [
    "4. Boolean\n",
    "- 논리 연산과 활용\n",
    "- Short Circuit: 1) or 연산에 앞 항이 참이라면 뒷 항은 무시됨 // 2) and 연산 앞 항이 거짓이면 뒷 항은 무시됨\n",
    "- 모든 문제의 기본: 참/거짓"
   ]
  },
  {
   "cell_type": "code",
   "execution_count": 9,
   "metadata": {},
   "outputs": [
    {
     "name": "stdout",
     "output_type": "stream",
     "text": [
      "hello\n"
     ]
    }
   ],
   "source": [
    "# 둘다 에러가 안난다.\n",
    "if 0 and 1//0:\n",
    "    print('hello')\n",
    "if 1 or 1//0:\n",
    "    print('hello')"
   ]
  },
  {
   "cell_type": "markdown",
   "metadata": {},
   "source": [
    "5. List(중요)\n",
    "- List Comprehension 사용하기(간결하고 깔끔한 코드, 시간복잡도도 좋은편)\n",
    "- sort와 sorted 구분하기\n",
    "- len, sum, max, min 등 활용하기\n",
    "- Slicing, [-1] 등 음수 인덱스 활용\n",
    "- reduce, filter 함수도 활용"
   ]
  },
  {
   "cell_type": "code",
   "execution_count": 10,
   "metadata": {},
   "outputs": [
    {
     "name": "stdout",
     "output_type": "stream",
     "text": [
      "Wall time: 0 ns\n"
     ]
    }
   ],
   "source": [
    "# 리스트 컴프리헨션 잘 쓰기\n",
    "%time\n",
    "list_arr = [i for i in range(100000) if i%2 == 0] "
   ]
  },
  {
   "cell_type": "code",
   "execution_count": 11,
   "metadata": {},
   "outputs": [
    {
     "name": "stdout",
     "output_type": "stream",
     "text": [
      "[2, 3, 5, 6, 9] [3, 5, 6, 9, 2]\n",
      "None [2, 3, 5, 6, 9]\n"
     ]
    }
   ],
   "source": [
    "# 내장함수(sorted(x)) vs 매소드(x.sort())\n",
    "# sorted는 원본함수가 안바뀜/리턴을 함, .sort()는 원본함수가 바뀜/리턴을 안함\n",
    "lst = [3, 5, 6, 9, 2]\n",
    "print(sorted(lst), lst)\n",
    "print(lst.sort(), lst)"
   ]
  },
  {
   "cell_type": "code",
   "execution_count": 12,
   "metadata": {},
   "outputs": [
    {
     "name": "stdout",
     "output_type": "stream",
     "text": [
      "5 25 9 2\n"
     ]
    }
   ],
   "source": [
    "print(len(lst), sum(lst), max(lst), min(lst))"
   ]
  },
  {
   "cell_type": "code",
   "execution_count": 14,
   "metadata": {},
   "outputs": [
    {
     "name": "stdout",
     "output_type": "stream",
     "text": [
      "[2, 3, 5, 6, 9]\n",
      "[50, 2, 3, 5, 6, 9]\n",
      "[100, 50, 2, 3, 5, 6, 9]\n"
     ]
    }
   ],
   "source": [
    "# Slicing\n",
    "print(lst)\n",
    "lst = [50] + lst\n",
    "print(lst)\n",
    "lst[:0] = [100]\n",
    "print(lst)"
   ]
  },
  {
   "cell_type": "code",
   "execution_count": 15,
   "metadata": {},
   "outputs": [
    {
     "data": {
      "text/plain": [
       "9"
      ]
     },
     "execution_count": 15,
     "metadata": {},
     "output_type": "execute_result"
    }
   ],
   "source": [
    "lst[-1]"
   ]
  },
  {
   "cell_type": "markdown",
   "metadata": {},
   "source": [
    "6. tuple\n",
    "- 초기 상태 표현시 코드가 길어지는 것 방지\n",
    "- map과 함께 사용하여 입력 받기(2개 이상)\n",
    "- 동시에 변해야 하는 객체에 효율적인 표현 가능(좌표라던지, swap 이라던지)"
   ]
  },
  {
   "cell_type": "code",
   "execution_count": 17,
   "metadata": {},
   "outputs": [
    {
     "name": "stdout",
     "output_type": "stream",
     "text": [
      "1 2 3\n"
     ]
    }
   ],
   "source": [
    "a, b, c = 1, 2, 3\n",
    "print(a, b, c)"
   ]
  },
  {
   "cell_type": "code",
   "execution_count": 19,
   "metadata": {},
   "outputs": [
    {
     "name": "stdout",
     "output_type": "stream",
     "text": [
      "3 7\n"
     ]
    }
   ],
   "source": [
    "a, b = map(int, input().split())"
   ]
  },
  {
   "cell_type": "code",
   "execution_count": 21,
   "metadata": {},
   "outputs": [
    {
     "name": "stdout",
     "output_type": "stream",
     "text": [
      "7 3\n"
     ]
    }
   ],
   "source": [
    "# swap 하려면 세줄짜리 temp 넣고 해도 되겠지만, 이런식으로 튜플형태로 구현하면 간편함\n",
    "a, b = 3, 7\n",
    "a, b = b, a\n",
    "print(a, b)"
   ]
  },
  {
   "cell_type": "markdown",
   "metadata": {},
   "source": [
    "7. Dictionary\n",
    "- keys나 values를 사용하여 효율적인 사용 추천\n",
    "- 반복문 돌리기\n",
    "- 문자열 자체를 index로  쓰고 싶은 경우"
   ]
  },
  {
   "cell_type": "code",
   "execution_count": 22,
   "metadata": {},
   "outputs": [
    {
     "name": "stdout",
     "output_type": "stream",
     "text": [
      "{1: 1, 2: 2, 'abc': 7}\n"
     ]
    }
   ],
   "source": [
    "dict_test = {1:1, 2:2, 'abc': 7}\n",
    "print(dict_test)"
   ]
  },
  {
   "cell_type": "code",
   "execution_count": 23,
   "metadata": {},
   "outputs": [
    {
     "data": {
      "text/plain": [
       "dict_values([1, 2, 7])"
      ]
     },
     "execution_count": 23,
     "metadata": {},
     "output_type": "execute_result"
    }
   ],
   "source": [
    "dict_test.values()"
   ]
  },
  {
   "cell_type": "code",
   "execution_count": 24,
   "metadata": {},
   "outputs": [
    {
     "data": {
      "text/plain": [
       "dict_keys([1, 2, 'abc'])"
      ]
     },
     "execution_count": 24,
     "metadata": {},
     "output_type": "execute_result"
    }
   ],
   "source": [
    "dict_test.keys()"
   ]
  },
  {
   "cell_type": "markdown",
   "metadata": {},
   "source": [
    "8. Set\n",
    "- 중복 체크 시 사용\n",
    "- 합집합, 여집합, 차집합 등 집합 연산에 쓰나, 시간복잡도가 커서 잘 안씀"
   ]
  },
  {
   "cell_type": "code",
   "execution_count": 27,
   "metadata": {},
   "outputs": [
    {
     "name": "stdout",
     "output_type": "stream",
     "text": [
      "{1, 2, 3, 4, 5, 6}\n"
     ]
    }
   ],
   "source": [
    "st = set([1,1,1,1,1,2,3,4,5,6,4,4,4,4,3])\n",
    "print(st)"
   ]
  },
  {
   "cell_type": "code",
   "execution_count": 28,
   "metadata": {},
   "outputs": [],
   "source": [
    "# 이거는 해당 문자열에 중복이 있다면 false, 없으면 true가 나옴 \n",
    "def isCheck(lst):\n",
    "    return len(lst) == len(set(lst))"
   ]
  }
 ],
 "metadata": {
  "kernelspec": {
   "display_name": "Python 3",
   "language": "python",
   "name": "python3"
  },
  "language_info": {
   "codemirror_mode": {
    "name": "ipython",
    "version": 3
   },
   "file_extension": ".py",
   "mimetype": "text/x-python",
   "name": "python",
   "nbconvert_exporter": "python",
   "pygments_lexer": "ipython3",
   "version": "3.8.5"
  }
 },
 "nbformat": 4,
 "nbformat_minor": 4
}
