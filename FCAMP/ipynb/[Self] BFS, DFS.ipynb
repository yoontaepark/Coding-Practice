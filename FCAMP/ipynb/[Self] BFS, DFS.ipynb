{
 "cells": [
  {
   "cell_type": "code",
   "execution_count": 1,
   "metadata": {},
   "outputs": [],
   "source": [
    "graph = dict()\n",
    "\n",
    "graph['A'] = ['B', 'C']\n",
    "graph['B'] = ['A', 'D']\n",
    "graph['C'] = ['A', 'G', 'H', 'I']\n",
    "graph['D'] = ['B', 'E', 'F']\n",
    "graph['E'] = ['D']\n",
    "graph['F'] = ['D']\n",
    "graph['G'] = ['C']\n",
    "graph['H'] = ['C']\n",
    "graph['I'] = ['C', 'J']\n",
    "graph['J'] = ['I']\n"
   ]
  },
  {
   "cell_type": "code",
   "execution_count": 2,
   "metadata": {},
   "outputs": [
    {
     "data": {
      "text/plain": [
       "{'A': ['B', 'C'],\n",
       " 'B': ['A', 'D'],\n",
       " 'C': ['A', 'G', 'H', 'I'],\n",
       " 'D': ['B', 'E', 'F'],\n",
       " 'E': ['D'],\n",
       " 'F': ['D'],\n",
       " 'G': ['C'],\n",
       " 'H': ['C'],\n",
       " 'I': ['C', 'J'],\n",
       " 'J': ['I']}"
      ]
     },
     "execution_count": 2,
     "metadata": {},
     "output_type": "execute_result"
    }
   ],
   "source": [
    "graph"
   ]
  },
  {
   "cell_type": "code",
   "execution_count": 3,
   "metadata": {},
   "outputs": [
    {
     "data": {
      "text/plain": [
       "[1, 2, 3, 4, 5]"
      ]
     },
     "execution_count": 3,
     "metadata": {},
     "output_type": "execute_result"
    }
   ],
   "source": [
    "data = [1,2,3]\n",
    "data.extend([4,5])\n",
    "data"
   ]
  },
  {
   "cell_type": "code",
   "execution_count": 17,
   "metadata": {},
   "outputs": [],
   "source": [
    "def bfs(graph, start_node):\n",
    "    visited, need_visit = list(), list()\n",
    "    \n",
    "    need_visit.append(start_node)\n",
    "    \n",
    "    while need_visit:\n",
    "        node = need_visit.pop(0)\n",
    "        if node not in visited:\n",
    "            visited.append(node)\n",
    "            need_visit.extend(graph[node])\n",
    "    \n",
    "    return visited\n",
    "    "
   ]
  },
  {
   "cell_type": "code",
   "execution_count": 18,
   "metadata": {},
   "outputs": [
    {
     "data": {
      "text/plain": [
       "['A', 'B', 'C', 'D', 'G', 'H', 'I', 'E', 'F', 'J']"
      ]
     },
     "execution_count": 18,
     "metadata": {},
     "output_type": "execute_result"
    }
   ],
   "source": [
    "bfs(graph, 'A')"
   ]
  },
  {
   "cell_type": "code",
   "execution_count": 22,
   "metadata": {},
   "outputs": [
    {
     "name": "stdout",
     "output_type": "stream",
     "text": [
      "[1, 100, 50, 500]\n",
      "[500, 100, 50, 1]\n"
     ]
    }
   ],
   "source": [
    "coin_list = [1, 100, 50, 500]\n",
    "print(coin_list)\n",
    "coin_list.sort(reverse=True)\n",
    "print(coin_list)"
   ]
  },
  {
   "cell_type": "code",
   "execution_count": 42,
   "metadata": {},
   "outputs": [],
   "source": [
    "coin_list = [1, 50, 500, 100]\n",
    "\n",
    "def min_coin_count(value, coin_list):\n",
    "    total_count, coin_num = 0, 0\n",
    "    details = list()\n",
    "    coin_list.sort(reverse=True)\n",
    "    for coin in coin_list:\n",
    "        coin_num = value // coin\n",
    "        total_count += coin_num\n",
    "        value -= coin * coin_num\n",
    "        details.append([coin, coin_num])\n",
    "        \n",
    "    return total_count, details\n",
    "        "
   ]
  },
  {
   "cell_type": "code",
   "execution_count": 43,
   "metadata": {},
   "outputs": [
    {
     "data": {
      "text/plain": [
       "(31, [[500, 9], [100, 2], [50, 0], [1, 20]])"
      ]
     },
     "execution_count": 43,
     "metadata": {},
     "output_type": "execute_result"
    }
   ],
   "source": [
    "min_coin_count(4720, coin_list)"
   ]
  },
  {
   "cell_type": "code",
   "execution_count": 4,
   "metadata": {},
   "outputs": [
    {
     "data": {
      "text/plain": [
       "[(20, 10), (10, 10), (15, 12), (25, 8), (30, 5)]"
      ]
     },
     "execution_count": 4,
     "metadata": {},
     "output_type": "execute_result"
    }
   ],
   "source": [
    "data_list = [(20,10), (10,10), (15,12), (25,8), (30,5)]    \n",
    "data_list"
   ]
  },
  {
   "cell_type": "code",
   "execution_count": 8,
   "metadata": {},
   "outputs": [],
   "source": [
    "def get_max_value(data_list, capacity):\n",
    "    data_list = sorted(data_list, key=lambda x: x[1]/x[0], reverse=True)\n",
    "    total_value = 0\n",
    "    details = list()\n",
    "    \n",
    "    for data in data_list:\n",
    "        if capacity - data[0] >= 0:\n",
    "            capacity -= data[0]\n",
    "            total_value += data[1]\n",
    "            details.append([data[0], data[1], 1])\n",
    "        else:\n",
    "            fraction = capacity / data[0]\n",
    "            total_value += data[1] * fraction\n",
    "            details.append([data[0], data[1], fraction])\n",
    "            break\n",
    "    return total_value, details"
   ]
  },
  {
   "cell_type": "code",
   "execution_count": 9,
   "metadata": {},
   "outputs": [
    {
     "data": {
      "text/plain": [
       "(27.0, [[10, 10, 1], [15, 12, 1], [20, 10, 0.5]])"
      ]
     },
     "execution_count": 9,
     "metadata": {},
     "output_type": "execute_result"
    }
   ],
   "source": [
    "get_max_value(data_list, 35)"
   ]
  },
  {
   "cell_type": "code",
   "execution_count": 11,
   "metadata": {},
   "outputs": [
    {
     "name": "stdout",
     "output_type": "stream",
     "text": [
      "[[1, 'C'], [5, 'B'], [2, 'A'], [7, 'D']]\n",
      "[1, 'C']\n",
      "[2, 'A']\n",
      "[5, 'B']\n",
      "[7, 'D']\n"
     ]
    }
   ],
   "source": [
    "import heapq\n",
    "\n",
    "queue = []\n",
    "\n",
    "heapq.heappush(queue, [2, 'A'])\n",
    "heapq.heappush(queue, [5, 'B'])\n",
    "heapq.heappush(queue, [1, 'C'])\n",
    "heapq.heappush(queue, [7, 'D'])\n",
    "print(queue)\n",
    "for index in range(len(queue)):\n",
    "    print(heapq.heappop(queue))\n"
   ]
  },
  {
   "cell_type": "code",
   "execution_count": 25,
   "metadata": {},
   "outputs": [
    {
     "name": "stdout",
     "output_type": "stream",
     "text": [
      "dict_items([('B', 8), ('C', 1), ('D', 2)])\n",
      "{'B': 8, 'C': 1, 'D': 2}\n",
      "{'A': inf, 'B': inf, 'C': inf, 'D': inf, 'E': inf, 'F': inf}\n",
      "inf\n"
     ]
    }
   ],
   "source": [
    "mygraph = {\n",
    "    'A': {'B': 8, 'C': 1, 'D': 2},\n",
    "    'B': {},\n",
    "    'C': {'B': 5, 'D': 2},\n",
    "    'D': {'E': 3, 'F': 5},\n",
    "    'E': {'F': 1},\n",
    "    'F': {'A': 5},\n",
    "}\n",
    "print(mygraph['A'].items())\n",
    "print(mygraph['A'])\n",
    "\n",
    "distances = {node: float('inf') for node in mygraph}\n",
    "print(distances)\n",
    "print(distances['A'])\n"
   ]
  },
  {
   "cell_type": "code",
   "execution_count": 30,
   "metadata": {},
   "outputs": [],
   "source": [
    "import heapq\n",
    "\n",
    "def dijkstra(graph, start):\n",
    "    \n",
    "    distances = {node: float('inf') for node in graph}\n",
    "    distances[start] = 0\n",
    "    queue = []\n",
    "    heapq.heappush(queue, [distances[start], start])\n",
    "    \n",
    "    while queue:\n",
    "        current_distance, current_node = heapq.heappop(queue)\n",
    "        \n",
    "        if distances[current_node] < current_distance:\n",
    "            continue\n",
    "        \n",
    "        for adjacent, weight in graph[current_node].items():\n",
    "            distance = current_distance + weight\n",
    "            \n",
    "            if distance < distances[adjacent]:\n",
    "                distances[adjacent] = distance\n",
    "                heapq.heappush(queue, [distance, adjacent])\n",
    "                \n",
    "            \n",
    "    return distances\n",
    "    \n",
    "    \n",
    "    "
   ]
  },
  {
   "cell_type": "code",
   "execution_count": 31,
   "metadata": {},
   "outputs": [
    {
     "data": {
      "text/plain": [
       "{'A': 0, 'B': 6, 'C': 1, 'D': 2, 'E': 5, 'F': 6}"
      ]
     },
     "execution_count": 31,
     "metadata": {},
     "output_type": "execute_result"
    }
   ],
   "source": [
    "dijkstra(mygraph, 'A')"
   ]
  },
  {
   "cell_type": "code",
   "execution_count": null,
   "metadata": {},
   "outputs": [],
   "source": []
  },
  {
   "cell_type": "code",
   "execution_count": null,
   "metadata": {},
   "outputs": [],
   "source": []
  },
  {
   "cell_type": "code",
   "execution_count": null,
   "metadata": {},
   "outputs": [],
   "source": []
  },
  {
   "cell_type": "code",
   "execution_count": null,
   "metadata": {},
   "outputs": [],
   "source": []
  },
  {
   "cell_type": "code",
   "execution_count": null,
   "metadata": {},
   "outputs": [],
   "source": []
  },
  {
   "cell_type": "code",
   "execution_count": null,
   "metadata": {},
   "outputs": [],
   "source": []
  }
 ],
 "metadata": {
  "kernelspec": {
   "display_name": "Python 3",
   "language": "python",
   "name": "python3"
  },
  "language_info": {
   "codemirror_mode": {
    "name": "ipython",
    "version": 3
   },
   "file_extension": ".py",
   "mimetype": "text/x-python",
   "name": "python",
   "nbconvert_exporter": "python",
   "pygments_lexer": "ipython3",
   "version": "3.8.5"
  }
 },
 "nbformat": 4,
 "nbformat_minor": 4
}
