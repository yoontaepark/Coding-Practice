{
 "cells": [
  {
   "cell_type": "code",
   "execution_count": 1,
   "metadata": {},
   "outputs": [],
   "source": [
    "# 재귀\n",
    "def factorial(num):\n",
    "    if num > 1:\n",
    "        return num * factorial(num-1)\n",
    "    else:\n",
    "        return num"
   ]
  },
  {
   "cell_type": "code",
   "execution_count": 2,
   "metadata": {},
   "outputs": [
    {
     "data": {
      "text/plain": [
       "24"
      ]
     },
     "execution_count": 2,
     "metadata": {},
     "output_type": "execute_result"
    }
   ],
   "source": [
    "factorial(4)"
   ]
  },
  {
   "cell_type": "code",
   "execution_count": null,
   "metadata": {},
   "outputs": [],
   "source": [
    "# 일반적인 형태1\n",
    "def function(data):\n",
    "    if data > 일정값:\n",
    "        return function(data-1)\n",
    "    else:\n",
    "        return 특정값 "
   ]
  },
  {
   "cell_type": "code",
   "execution_count": null,
   "metadata": {},
   "outputs": [],
   "source": [
    "# 일반적인 형태2\n",
    "def function2(num):\n",
    "    if num <= 1:\n",
    "        return num\n",
    "    \n",
    "    return num * function2(num-1)"
   ]
  },
  {
   "cell_type": "code",
   "execution_count": 4,
   "metadata": {},
   "outputs": [],
   "source": [
    "##다음 함수를 재귀 함수를 활용해서 완성해서 1부터 num까지의 곱이 출력되게 만드세요"
   ]
  },
  {
   "cell_type": "code",
   "execution_count": 5,
   "metadata": {},
   "outputs": [],
   "source": [
    "def multiple(num):\n",
    "    if num <= 1:\n",
    "        return num\n",
    "    \n",
    "    return num * multiple(num-1)"
   ]
  },
  {
   "cell_type": "code",
   "execution_count": 6,
   "metadata": {},
   "outputs": [
    {
     "data": {
      "text/plain": [
       "6"
      ]
     },
     "execution_count": 6,
     "metadata": {},
     "output_type": "execute_result"
    }
   ],
   "source": [
    "multiple(3)"
   ]
  },
  {
   "cell_type": "code",
   "execution_count": 7,
   "metadata": {},
   "outputs": [],
   "source": [
    "## 숫자가 들어 있는 리스트가 주어졌을 때, 리스트의 합을 리턴하는 함수를 만드세요"
   ]
  },
  {
   "cell_type": "code",
   "execution_count": 8,
   "metadata": {},
   "outputs": [
    {
     "data": {
      "text/plain": [
       "[21, 88, 85, 81, 19, 14, 67, 54, 90, 24]"
      ]
     },
     "execution_count": 8,
     "metadata": {},
     "output_type": "execute_result"
    }
   ],
   "source": [
    "import random\n",
    "data = random.sample(range(100), 10)\n",
    "data"
   ]
  },
  {
   "cell_type": "code",
   "execution_count": 9,
   "metadata": {},
   "outputs": [],
   "source": [
    "def sum_list(data):\n",
    "    if len(data) <= 1:\n",
    "        return data[0]\n",
    "    return data[0] + sum_list(data[1:])"
   ]
  },
  {
   "cell_type": "code",
   "execution_count": 10,
   "metadata": {},
   "outputs": [
    {
     "data": {
      "text/plain": [
       "543"
      ]
     },
     "execution_count": 10,
     "metadata": {},
     "output_type": "execute_result"
    }
   ],
   "source": [
    "sum_list(data)"
   ]
  },
  {
   "cell_type": "code",
   "execution_count": 11,
   "metadata": {},
   "outputs": [],
   "source": [
    "##회문(palindrome)은 순서를 거꾸로 읽어도 제대로 읽은 것과 같은 단어와 문장을 의미함\n",
    "##회문을 판별할 수 있는 함수를 재귀함수를 활용해서 만들어봅니다."
   ]
  },
  {
   "cell_type": "code",
   "execution_count": 15,
   "metadata": {},
   "outputs": [],
   "source": [
    "def palindrome(string):\n",
    "    if len(string) <= 1:\n",
    "        return True\n",
    "    \n",
    "    if string[0] == string[-1]:\n",
    "        return palindrome(string[1:-1])\n",
    "    else:\n",
    "        return False"
   ]
  },
  {
   "cell_type": "code",
   "execution_count": 17,
   "metadata": {},
   "outputs": [
    {
     "name": "stdout",
     "output_type": "stream",
     "text": [
      "True\n"
     ]
    }
   ],
   "source": [
    "check = 'navan'\n",
    "print(palindrome(check))"
   ]
  },
  {
   "cell_type": "code",
   "execution_count": null,
   "metadata": {},
   "outputs": [],
   "source": [
    "1, 정수 n에 대해\n",
    "2. n이 홀수이면 3 X n + 1 을 하고,\n",
    "3. n이 짝수이면 n 을 2로 나눕니다.\n",
    "4. 이렇게 계속 진행해서 n 이 결국 1이 될 때까지 2와 3의 과정을 반복합니다.\n",
    "\n",
    "예를 들어 n에 3을 넣으면,\n",
    "3\n",
    "10\n",
    "5\n",
    "16\n",
    "8\n",
    "4\n",
    "2\n",
    "1\n",
    "이 됩니다.\n",
    "이렇게 정수 n을 입력받아, 위 알고리즘에 의해 1이 되는 과정을 모두 출력하는 함수를 작성하세요."
   ]
  },
  {
   "cell_type": "code",
   "execution_count": 26,
   "metadata": {},
   "outputs": [],
   "source": [
    "def func(n):\n",
    "    print(n)\n",
    "    if n == 1:\n",
    "        return n\n",
    "    \n",
    "    if n % 2 == 1:\n",
    "        return (func((3*n)+1))\n",
    "    else: \n",
    "        return func(int(n/2))"
   ]
  },
  {
   "cell_type": "code",
   "execution_count": 27,
   "metadata": {},
   "outputs": [
    {
     "name": "stdout",
     "output_type": "stream",
     "text": [
      "3\n",
      "10\n",
      "5\n",
      "16\n",
      "8\n",
      "4\n",
      "2\n",
      "1\n"
     ]
    },
    {
     "data": {
      "text/plain": [
       "1"
      ]
     },
     "execution_count": 27,
     "metadata": {},
     "output_type": "execute_result"
    }
   ],
   "source": [
    "func(3)"
   ]
  },
  {
   "cell_type": "code",
   "execution_count": 30,
   "metadata": {},
   "outputs": [],
   "source": [
    "def func(data):\n",
    "    if data == 1:\n",
    "        return 1\n",
    "    elif data == 2:\n",
    "        return 2\n",
    "    elif data == 3:\n",
    "        return 4\n",
    "    \n",
    "    return func(data-1) + func(data-2) + func(data-3)\n",
    "        "
   ]
  },
  {
   "cell_type": "code",
   "execution_count": 31,
   "metadata": {},
   "outputs": [
    {
     "data": {
      "text/plain": [
       "13"
      ]
     },
     "execution_count": 31,
     "metadata": {},
     "output_type": "execute_result"
    }
   ],
   "source": [
    "func(5)"
   ]
  },
  {
   "cell_type": "code",
   "execution_count": 33,
   "metadata": {},
   "outputs": [],
   "source": [
    "def fibo(num):\n",
    "    if num <= 1:\n",
    "        return num\n",
    "    return fibo(num-1) + fibo(num-2)"
   ]
  },
  {
   "cell_type": "code",
   "execution_count": 34,
   "metadata": {},
   "outputs": [
    {
     "data": {
      "text/plain": [
       "3"
      ]
     },
     "execution_count": 34,
     "metadata": {},
     "output_type": "execute_result"
    }
   ],
   "source": [
    "fibo(4)"
   ]
  },
  {
   "cell_type": "code",
   "execution_count": 35,
   "metadata": {},
   "outputs": [],
   "source": [
    "def fibo_dp(num):\n",
    "    cache = [ 0 for index in range(num+1)] # 0번부터 num까지 0으로 쭉 리스트를 깔아줌\n",
    "    cache[0] = 0\n",
    "    cache[1] = 1\n",
    "    \n",
    "    for index in range(2, num+1):\n",
    "        cache[index] = cache[index-1] + cache[index-2]\n",
    "        \n",
    "    return cache[num]"
   ]
  },
  {
   "cell_type": "code",
   "execution_count": 37,
   "metadata": {},
   "outputs": [
    {
     "data": {
      "text/plain": [
       "3"
      ]
     },
     "execution_count": 37,
     "metadata": {},
     "output_type": "execute_result"
    }
   ],
   "source": [
    "fibo_dp(4)"
   ]
  },
  {
   "cell_type": "code",
   "execution_count": 38,
   "metadata": {},
   "outputs": [],
   "source": [
    "def qsort(data):\n",
    "    if len(data) <= 1:\n",
    "        return data\n",
    "    \n",
    "    left, right = list(), list()\n",
    "    pivot = data[0]\n",
    "    \n",
    "    # 만약 10개의 리스트라면, 길이는 10임, 근데 인덱스번호는 0,1,2,...,8,9임. \n",
    "    # 따라서, 1부터 10까지 하면 1~9까지 인덱스번호를 돌릴 수 있다. \n",
    "    for index in range(1, len(data)):\n",
    "        if pivot > data[index]:\n",
    "            left.append(data[index])\n",
    "        else:\n",
    "            right.append(data[index])\n",
    "    \n",
    "    return qsort(left) + [pivot] + qsort(right)\n",
    "        \n",
    "    "
   ]
  },
  {
   "cell_type": "code",
   "execution_count": 39,
   "metadata": {},
   "outputs": [
    {
     "name": "stdout",
     "output_type": "stream",
     "text": [
      "[1, 12, 13, 21, 29, 30, 37, 46, 55, 83]\n"
     ]
    }
   ],
   "source": [
    "import random\n",
    "\n",
    "data_list = random.sample(range(100), 10)\n",
    "print(qsort(data_list))"
   ]
  },
  {
   "cell_type": "code",
   "execution_count": 40,
   "metadata": {},
   "outputs": [],
   "source": [
    "# 더 깔끔한 버젼\n",
    "\n",
    "def qsort(data):\n",
    "    if len(data) <= 1:\n",
    "        return data\n",
    "    \n",
    "    pivot = data[0]\n",
    "    \n",
    "    left = [ item for item in data[1:] if pivot > item ]\n",
    "    right = [ item for item in data[1:] if pivot < item]\n",
    "    \n",
    "    return qsort(left) + [pivot] + qsort(right)\n",
    "    "
   ]
  },
  {
   "cell_type": "code",
   "execution_count": 41,
   "metadata": {},
   "outputs": [
    {
     "name": "stdout",
     "output_type": "stream",
     "text": [
      "[12, 28, 32, 63, 68, 74, 77, 82, 89, 94]\n"
     ]
    }
   ],
   "source": [
    "import random\n",
    "\n",
    "data_list = random.sample(range(100), 10)\n",
    "print(qsort(data_list))"
   ]
  },
  {
   "cell_type": "code",
   "execution_count": null,
   "metadata": {},
   "outputs": [],
   "source": []
  }
 ],
 "metadata": {
  "kernelspec": {
   "display_name": "Python 3",
   "language": "python",
   "name": "python3"
  },
  "language_info": {
   "codemirror_mode": {
    "name": "ipython",
    "version": 3
   },
   "file_extension": ".py",
   "mimetype": "text/x-python",
   "name": "python",
   "nbconvert_exporter": "python",
   "pygments_lexer": "ipython3",
   "version": "3.8.5"
  }
 },
 "nbformat": 4,
 "nbformat_minor": 4
}
