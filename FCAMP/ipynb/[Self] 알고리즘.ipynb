{
 "cells": [
  {
   "cell_type": "code",
   "execution_count": 3,
   "metadata": {},
   "outputs": [],
   "source": [
    "def bubblesort(data):\n",
    "    for index in range(len(data)-1):\n",
    "        swap = False\n",
    "        for index2 in range(len(data)-index-1):\n",
    "            if data[index2] > data[index2+1]:\n",
    "                data[index2], data[index2+1] = data[index2+1], data[index2]\n",
    "                swap = True\n",
    "    \n",
    "        if swap == False:\n",
    "            break\n",
    "    \n",
    "    return data"
   ]
  },
  {
   "cell_type": "code",
   "execution_count": 4,
   "metadata": {},
   "outputs": [
    {
     "name": "stdout",
     "output_type": "stream",
     "text": [
      "[0, 3, 8, 10, 12, 14, 16, 18, 19, 21, 22, 25, 26, 27, 31, 32, 34, 35, 38, 39, 40, 41, 43, 45, 46, 49, 52, 53, 54, 57, 61, 62, 63, 64, 66, 70, 71, 75, 76, 77, 78, 83, 84, 87, 88, 89, 93, 94, 95, 99]\n"
     ]
    }
   ],
   "source": [
    "import random\n",
    "\n",
    "data_list = random.sample(range(100), 50)\n",
    "print(bubblesort(data_list))"
   ]
  },
  {
   "cell_type": "code",
   "execution_count": 5,
   "metadata": {},
   "outputs": [],
   "source": [
    "def selection_sort(data):\n",
    "    for stand in range(len(data)-1):\n",
    "        lowest = stand\n",
    "        for index in range(stand+1, len(data)):\n",
    "            if data[lowest] > data[index]:\n",
    "                lowest = index\n",
    "        data[lowest], data[stand] = data[stand], data[lowest]\n",
    "    return data"
   ]
  },
  {
   "cell_type": "code",
   "execution_count": 6,
   "metadata": {},
   "outputs": [
    {
     "name": "stdout",
     "output_type": "stream",
     "text": [
      "[18, 19, 21, 23, 33, 35, 46, 47, 75, 87]\n"
     ]
    }
   ],
   "source": [
    "import random\n",
    "data_list2 = random.sample(range(100), 10)\n",
    "\n",
    "print(selection_sort(data_list2))"
   ]
  },
  {
   "cell_type": "code",
   "execution_count": 1,
   "metadata": {},
   "outputs": [],
   "source": [
    "# 삽입 정렬\n",
    "def insertion_sort(data):\n",
    "    for index in range(len(data)-1):\n",
    "        for index2 in range(index+1, 0, -1):\n",
    "            if data[index2] < data[index2 - 1]:\n",
    "                data[index2], data[index2 - 1] = data[index2 - 1], data[index2]\n",
    "            else:\n",
    "                break\n",
    "    return data"
   ]
  },
  {
   "cell_type": "code",
   "execution_count": 3,
   "metadata": {},
   "outputs": [
    {
     "name": "stdout",
     "output_type": "stream",
     "text": [
      "[0, 3, 4, 5, 8, 12, 16, 23, 24, 25, 26, 29, 30, 32, 37, 39, 40, 42, 43, 44, 45, 46, 48, 50, 51, 53, 54, 58, 60, 61, 62, 66, 67, 68, 71, 74, 75, 77, 80, 82, 84, 85, 86, 88, 89, 90, 93, 94, 96, 98]\n"
     ]
    }
   ],
   "source": [
    "import random\n",
    "\n",
    "data_list3 = random.sample(range(100), 50)\n",
    "print(insertion_sort(data_list3))"
   ]
  },
  {
   "cell_type": "code",
   "execution_count": null,
   "metadata": {},
   "outputs": [],
   "source": []
  }
 ],
 "metadata": {
  "kernelspec": {
   "display_name": "Python 3",
   "language": "python",
   "name": "python3"
  },
  "language_info": {
   "codemirror_mode": {
    "name": "ipython",
    "version": 3
   },
   "file_extension": ".py",
   "mimetype": "text/x-python",
   "name": "python",
   "nbconvert_exporter": "python",
   "pygments_lexer": "ipython3",
   "version": "3.8.5"
  }
 },
 "nbformat": 4,
 "nbformat_minor": 4
}
