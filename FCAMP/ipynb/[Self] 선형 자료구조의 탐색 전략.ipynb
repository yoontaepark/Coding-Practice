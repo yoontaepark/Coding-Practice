{
 "cells": [
  {
   "cell_type": "code",
   "execution_count": 1,
   "metadata": {},
   "outputs": [],
   "source": [
    "import random"
   ]
  },
  {
   "cell_type": "code",
   "execution_count": 2,
   "metadata": {},
   "outputs": [],
   "source": [
    "data = [x for x in range(100000)]  # n = 100k\n",
    "query = [x for x in range(100000)] # m = 100k\n",
    "random.shuffle(data)"
   ]
  },
  {
   "cell_type": "code",
   "execution_count": 3,
   "metadata": {},
   "outputs": [
    {
     "name": "stdout",
     "output_type": "stream",
     "text": [
      "Wall time: 1min 8s\n"
     ]
    }
   ],
   "source": [
    "%%time\n",
    "# 전략1 - 단순한 O(n) 순차탐색: 이경우 시간복잡도는 0(mn)\n",
    "for q in query: # O(mn)\n",
    "    res = q in data # O(n)"
   ]
  },
  {
   "cell_type": "code",
   "execution_count": 5,
   "metadata": {},
   "outputs": [
    {
     "name": "stdout",
     "output_type": "stream",
     "text": [
      "Wall time: 20 ms\n"
     ]
    }
   ],
   "source": [
    "%%time\n",
    "# 전략2 - 해싱을 이용한 O(1) 탐색 - 추가 메모리 사용함, 이경우 시간복잡도는 O(m) + O(n) = O(n)\n",
    "data_set = set(data) # O(n)\n",
    "for q in query: # O(m)\n",
    "    res = q in data_set # O(1)"
   ]
  },
  {
   "cell_type": "code",
   "execution_count": 6,
   "metadata": {},
   "outputs": [],
   "source": [
    "import bisect"
   ]
  },
  {
   "cell_type": "code",
   "execution_count": 7,
   "metadata": {},
   "outputs": [
    {
     "name": "stdout",
     "output_type": "stream",
     "text": [
      "Wall time: 55 ms\n"
     ]
    }
   ],
   "source": [
    "%%time\n",
    "# 전략3 - 정렬을 이용한 O(logn) 탐색 - 추가 메모리 사용하지만 O(n) 정도만, 시간복잡도는 O(nlogn) + O(mlogn) = O(nlogn)\n",
    "data_sort = sorted(data) # O(nlogn)\n",
    "for q in query: # O(mlogn)\n",
    "    res = bisect.bisect(data_sort, q) # O(logn) "
   ]
  },
  {
   "cell_type": "code",
   "execution_count": 8,
   "metadata": {},
   "outputs": [],
   "source": [
    "# 전략4 - 비선형 자료구조로 변환(Heap, BST, ...)\n",
    "# 최소값을 하나씩 반환하는 알고리즘"
   ]
  },
  {
   "cell_type": "code",
   "execution_count": 9,
   "metadata": {},
   "outputs": [
    {
     "name": "stdout",
     "output_type": "stream",
     "text": [
      "Wall time: 1min 28s\n"
     ]
    }
   ],
   "source": [
    "%%time\n",
    "# Naive Method, 시간복잡도는 O(n^2)\n",
    "data_ = data.copy()\n",
    "while data_: # O(n^2)\n",
    "    val = min(data_) # O(n)\n",
    "    data_.remove(val)"
   ]
  },
  {
   "cell_type": "code",
   "execution_count": 10,
   "metadata": {},
   "outputs": [
    {
     "name": "stdout",
     "output_type": "stream",
     "text": [
      "Wall time: 25 ms\n"
     ]
    }
   ],
   "source": [
    "%%time\n",
    "# Sorting, 시간복잡도는 O(nlogn) + O(n) = O(n)\n",
    "data_sorted = sorted(data, reverse=True) # O(nlogn)\n",
    "while data_sorted: # O(n)\n",
    "    del data_sorted[-1] # O(1) "
   ]
  },
  {
   "cell_type": "code",
   "execution_count": 11,
   "metadata": {},
   "outputs": [],
   "source": [
    "import heapq"
   ]
  },
  {
   "cell_type": "code",
   "execution_count": 14,
   "metadata": {},
   "outputs": [
    {
     "name": "stdout",
     "output_type": "stream",
     "text": [
      "Wall time: 51 ms\n"
     ]
    }
   ],
   "source": [
    "%%time\n",
    "# heap 사용, 시간복잡도는 O(nlogn) + O(nlogn) = O(nlogn)\n",
    "data_heap = data.copy()\n",
    "heapq.heapify(data_heap) # O(nlogn)\n",
    "\n",
    "while data_heap: # O(nlogn)\n",
    "    val = heapq.heappop(data_heap) # O(logn)"
   ]
  },
  {
   "cell_type": "code",
   "execution_count": null,
   "metadata": {},
   "outputs": [],
   "source": []
  }
 ],
 "metadata": {
  "kernelspec": {
   "display_name": "Python 3",
   "language": "python",
   "name": "python3"
  },
  "language_info": {
   "codemirror_mode": {
    "name": "ipython",
    "version": 3
   },
   "file_extension": ".py",
   "mimetype": "text/x-python",
   "name": "python",
   "nbconvert_exporter": "python",
   "pygments_lexer": "ipython3",
   "version": "3.8.5"
  }
 },
 "nbformat": 4,
 "nbformat_minor": 4
}
