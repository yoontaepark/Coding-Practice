{
  "nbformat": 4,
  "nbformat_minor": 0,
  "metadata": {
    "colab": {
      "name": "박윤태_ - [코딩+알고리즘] 4주차 과제.ipynb",
      "provenance": [],
      "collapsed_sections": [],
      "include_colab_link": true
    },
    "kernelspec": {
      "display_name": "Python 3",
      "language": "python",
      "name": "python3"
    },
    "language_info": {
      "codemirror_mode": {
        "name": "ipython",
        "version": 3
      },
      "file_extension": ".py",
      "mimetype": "text/x-python",
      "name": "python",
      "nbconvert_exporter": "python",
      "pygments_lexer": "ipython3",
      "version": "3.8.5"
    }
  },
  "cells": [
    {
      "cell_type": "markdown",
      "metadata": {
        "id": "view-in-github",
        "colab_type": "text"
      },
      "source": [
        "<a href=\"https://colab.research.google.com/github/yoontaepark/Coding-Practice/blob/main/%EB%B0%95%EC%9C%A4%ED%83%9C__%5B%E1%84%8F%E1%85%A9%E1%84%83%E1%85%B5%E1%86%BC%2B%E1%84%8B%E1%85%A1%E1%86%AF%E1%84%80%E1%85%A9%E1%84%85%E1%85%B5%E1%84%8C%E1%85%B3%E1%86%B7%5D_4%E1%84%8C%E1%85%AE%E1%84%8E%E1%85%A1_%E1%84%80%E1%85%AA%E1%84%8C%E1%85%A6.ipynb\" target=\"_parent\"><img src=\"https://colab.research.google.com/assets/colab-badge.svg\" alt=\"Open In Colab\"/></a>"
      ]
    },
    {
      "cell_type": "markdown",
      "metadata": {
        "id": "wS0WJ3F9SoRp"
      },
      "source": [
        "# 4주차 과제 공지사항\n",
        "\n",
        "----\n",
        "\n",
        "1. 아래의 과제를 보고 코드를 작성하시면 됩니다.\n",
        "2. 멘토님께서 과제에 대한 코드를 실행한 후에 정량적/정성적으로 평가가 됩니다.\n",
        "3. 멘토님께서는 과제평가에 대한 체크리스트를 작성한 뒤에 객관적으로 코드에 대한 평가를 할 예정입니다.\n",
        "4. 과제에 대한 점수는 100점 만점으로 진행이 됩니다.\n",
        "5. 퀴즈 및 과제에 대한 평가는 모든 수강생들의 평가가 완료되면 확인할 수 있습니다. 참고부탁드립니다.\n",
        "6. 퀴즈 및 과제기한은 일요일 저녁 10시 까지 입니다. 10시 이후에는 코드작성이 불가하오니 이 점 참고부탁드립니다.\n",
        "7. 미션통과 대상자의 경우, 평균 5주차 말 / 6주차 초에 미션환급액이 입금이 될 예정입니다. 참고부탁드립니다.\n",
        "8. 반드시 코드 작성란에만 코드를 작성하시고, 그 외에는 절대로 내용을 수정하지 마세요.\n",
        "9. 작성란에 작성된 코드가 동작하는지 반드시 확인하세요. 코드가 동작하지 않으면 0점처리됩니다.\n",
        "10. 과제의 채점 시 입력은 달라질 수 있습니다. 다른 입력에도 동작할 수 있는 코드를 작성해 주세요.\n",
        "11. ***예시 입출력이 주어진 경우, 최소한 예시 입력에 대해 출력이 정상적으로 이루어져야 점수가 주어집니다. 예시 입력에 대해 동작시키는 것은 과제 제출의 최소 조건입니다.***\n",
        "12. ***예시 입력에 대해 출력이 정상적으로 되더라도, 코드의 내용이 적합하지 않은 경우 감점이 이루어집니다.***\n",
        "\n",
        "- 문제 출처: (과제4: [Leetcode](https://leetcode.com/problems/happy-number/))\n",
        "\n",
        "----"
      ]
    },
    {
      "cell_type": "markdown",
      "metadata": {
        "id": "O4MMgk1OTzmH"
      },
      "source": [
        "----\n",
        "\n",
        "## 종합 점수 (/100)\n",
        "\n",
        "----"
      ]
    },
    {
      "cell_type": "markdown",
      "metadata": {
        "id": "JoFcF8ljTR6p"
      },
      "source": [
        "## 과제1.\n",
        "\n",
        "----\n",
        "Min Heap 자료구조를 이용하면 최대값을 `O(logN)`의 시간복잡도로 찾을 수 있다. Min Heap을 이용하면 우선순위 값이 낮은 자료를 먼저 출력하는 Priority Queue를 구현할 수 있다. Min Heap을 이용한 Priority Queue는 아래와 같은 특징을 가진다.\n",
        "\n",
        "- Min Heap을 이용한 Priority Queue의 특징\n",
        "  - 자료를 입력하는 동작과 출력하는 동작 모두 `O(logN)`으로 이루어진다.\n",
        "  - 우선순위 값이 낮은 자료를 먼저 출력하되, 우선순위 값이 같은 자료끼리는 순서를 고려하지 않는다.\n",
        "  - 다음과 같은 Method들을 구현한다.\n",
        "    1. `is_empty()`: Queue가 비어있으면 True, 비어있지 않으면 False를 출력한다.\n",
        "    1. `put()`: Priority Queue에 자료를 입력한다. 자료는 길이가 2인 Tuple로, `(우선순위, 자료)` 형태로 입력받는다.\n",
        "    1. `get()`: Priority Queue에서 자료를 출력한다. 출력한 데이터는 Priority Queue에서 삭제한다. 더이상 출력할 데이터가 없는 경우 None을 출력한다.\n",
        "    1. `peek()`: Priority Queue에서 자료를 출력한다. 출력한 데이터는 Priority Queue에 그대로 유지한다. 더이상 출력할 데이터가 없는 경우 None을 출력한다.\n",
        "\n",
        "\n",
        "\n",
        "```python\n",
        "class PriorityQueue:\n",
        "    def __init__(self):\n",
        "        pass\n",
        "    \n",
        "    def is_empty(self):\n",
        "        pass\n",
        "    \n",
        "    def put(self, data):\n",
        "        pass\n",
        "    \n",
        "    def get(self):\n",
        "        pass\n",
        "    \n",
        "    def peek(self):\n",
        "        pass\n",
        "```\n",
        "\n",
        "```python\n",
        "# Test code\n",
        "\n",
        "pq = PriorityQueue()\n",
        "pq.put((0, 'a'))\n",
        "pq.put((5, 'b'))\n",
        "pq.put((2, 'c'))\n",
        "pq.put((1, 'd'))\n",
        "pq.put((3, 'e'))\n",
        "pq.put((4, 'f'))\n",
        "\n",
        "print(pq.get())\n",
        "print(pq.get())\n",
        "print(pq.get())\n",
        "print(pq.get())\n",
        "print(pq.get())\n",
        "print(pq.get())\n",
        "print(pq.get())\n",
        "```\n",
        "----"
      ]
    },
    {
      "cell_type": "code",
      "metadata": {
        "id": "MpNgU-Ftq8Oh",
        "colab": {
          "base_uri": "https://localhost:8080/"
        },
        "outputId": "a7f604e7-d040-4cb7-997c-77fd1d078e14"
      },
      "source": [
        "# 과제1번 코드란\n",
        "class PriorityQueue:\n",
        "    def __init__(self):\n",
        "        self.heap_array = list()\n",
        " \n",
        "    def is_empty(self):\n",
        "        if len(self.heap_array) == 0:\n",
        "            return True\n",
        "        else:\n",
        "            return False\n",
        " \n",
        "    def put(self, data):        \n",
        "        self.heap_array.append(data)\n",
        "\n",
        "        inserted_idx = len(self.heap_array) - 1\n",
        "\n",
        "        while True:\n",
        "            if inserted_idx == 0:\n",
        "                return False\n",
        "            \n",
        "            parent_idx = (inserted_idx - 1) // 2\n",
        "\n",
        "            if self.heap_array[inserted_idx][0] > self.heap_array[parent_idx][0]:\n",
        "                self.heap_array[inserted_idx], self.heap_array[parent_idx] = self.heap_array[parent_idx], self.heap_array[inserted_idx]\n",
        "                inserted_idx = parent_idx\n",
        "                return True\n",
        "\n",
        "            else:\n",
        "                return False\n",
        "        \n",
        "        \n",
        "    def get(self):\n",
        "        if len(self.heap_array) == 0:\n",
        "            return None\n",
        "\n",
        "        returned_data = self.heap_array[0]\n",
        "\n",
        "        self.heap_array[0] = self.heap_array[-1]\n",
        "        del self.heap_array[-1]\n",
        "\n",
        "        popped_idx = 0\n",
        "\n",
        "        while True:\n",
        "            left_child_idx = (popped_idx * 2) + 1\n",
        "            right_child_idx = (popped_idx * 2) + 2\n",
        "\n",
        "            if left_child_idx >= len(self.heap_array):\n",
        "                return returned_data\n",
        "            \n",
        "            elif right_child_idx >= len(self.heap_array):\n",
        "                if self.heap_array[popped_idx][0] < self.heap_array[left_child_idx][0]:\n",
        "                    self.heap_array[popped_idx], self.heap_array[left_child_idx] = self.heap_array[left_child_idx], self.heap_array[popped_idx]\n",
        "                    popped_idx = left_child_idx\n",
        "                    return returned_data\n",
        "                else:\n",
        "                    return returned_data\n",
        "            \n",
        "            else:\n",
        "                if self.heap_array[left_child_idx][0] > self.heap_array[right_child_idx][0]:\n",
        "                    if self.heap_array[popped_idx][0] < self.heap_array[left_child_idx][0]:\n",
        "                        self.heap_array[popped_idx], self.heap_array[left_child_idx] = self.heap_array[left_child_idx], self.heap_array[popped_idx]\n",
        "                        popped_idx = left_child_idx\n",
        "                        return returned_data\n",
        "                    else:\n",
        "                        return returned_data\n",
        "                else:\n",
        "                    if self.heap_array[popped_idx][0] < self.heap_array[right_child_idx][0]:\n",
        "                        self.heap_array[popped_idx], self.heap_array[right_child_idx] = self.heap_array[right_child_idx], self.heap_array[popped_idx]\n",
        "                        popped_idx = right_child_idx\n",
        "                        return returned_data\n",
        "                    else:\n",
        "                        return returned_data\n",
        "        \n",
        " \n",
        "    def peek(self):\n",
        "        if len(self.heap_array) == 0:\n",
        "            return None\n",
        "        else:\n",
        "            return self.heap_array[0]\n",
        "\n",
        "# Test code\n",
        " \n",
        "pq = PriorityQueue()\n",
        "pq.put((0, 'a'))\n",
        "pq.put((5, 'b'))\n",
        "pq.put((2, 'c'))\n",
        "pq.put((1, 'd'))\n",
        "pq.put((3, 'e'))\n",
        "pq.put((4, 'f'))\n",
        " \n",
        "print(pq.get())\n",
        "print(pq.get())\n",
        "print(pq.get())\n",
        "print(pq.get())\n",
        "print(pq.get())\n",
        "print(pq.get())\n",
        "print(pq.get())\n"
      ],
      "execution_count": 3,
      "outputs": [
        {
          "output_type": "stream",
          "text": [
            "(5, 'b')\n",
            "(4, 'f')\n",
            "(3, 'e')\n",
            "(2, 'c')\n",
            "(1, 'd')\n",
            "(0, 'a')\n",
            "None\n"
          ],
          "name": "stdout"
        }
      ]
    },
    {
      "cell_type": "markdown",
      "metadata": {
        "id": "jmayiflbYYW6"
      },
      "source": [
        "## 과제2.\n",
        "\n",
        "----\n",
        "오름차순으로 정렬된 N개의 정수를 가진 List가 주어져있을 때, 해당 List에 존재하는 서로 다른 값이 몇 가지인지 알아내는 알고리즘을 구현하라. 알고리즘의 제약사항은 아래와 같다. (알고리즘은 `1 <= N <= 10000`에서 테스트된다.)\n",
        "\n",
        "- 추가 메모리 사용은 `O(1)`으로 제한된다. 따라서 set()와 dict() 등의 자료구조를 사용할 수 없다.\n",
        "- 알고리즘의 시간복잡도는 `O(N)` 이하로 제한된다.\n",
        "\n",
        "```python\n",
        "def countUniques(a):\n",
        "    pass\n",
        "\n",
        "# Test code\n",
        "print(countUniques([-1, 1, 1, 1, 1, 4, 4, 4, 4, 10, 14, 14])) # 5\n",
        "print(countUniques([0, 0, 0, 0, 0, 0, 0, 0, 0, 0, 0, 0, 0, 1])) # 2\n",
        "```\n",
        "----"
      ]
    },
    {
      "cell_type": "code",
      "metadata": {
        "id": "bmA6c6EMYY7o",
        "colab": {
          "base_uri": "https://localhost:8080/"
        },
        "outputId": "73d8d5a7-fa44-486c-8b90-09f75362eb80"
      },
      "source": [
        "# 과제 2번 코드란\n",
        "def countUniques(a):\n",
        "    count = 1\n",
        "    for i in range(1, len(a)):\n",
        "        if a[i] != a[0]:\n",
        "            a[0] = a[i]\n",
        "            count += 1\n",
        "    return count\n",
        "\n",
        "\n",
        "# Test code\n",
        "print(countUniques([-1, 1, 1, 1, 1, 4, 4, 4, 4, 10, 14, 14])) # 5\n",
        "print(countUniques([0, 0, 0, 0, 0, 0, 0, 0, 0, 0, 0, 0, 0, 1])) # 2\n",
        "\n"
      ],
      "execution_count": 4,
      "outputs": [
        {
          "output_type": "stream",
          "text": [
            "5\n",
            "2\n"
          ],
          "name": "stdout"
        }
      ]
    },
    {
      "cell_type": "markdown",
      "metadata": {
        "id": "fzlpa3FVZpcL"
      },
      "source": [
        "## 과제3.\n",
        "\n",
        "----\n",
        "N개의 문자열로 이루어진 List에서 전체 문자열이 앞 n개 문자열이 같다고 할때, 가장 큰 n을 출력하는 알고리즘을 구현하라. (즉, 주어진 모든 문자열의 앞의 몇개의 문자가 일치하는지 출력하라)\n",
        "\n",
        "```python\n",
        "def solution(a):\n",
        "    return 0\n",
        "\n",
        "# Test code\n",
        "print(solution(['abcd', 'abce', 'abchg', 'abcfwqw', 'abcdfg'])) # 3\n",
        "print(solution(['abcd', 'gbce', 'abchg', 'abcfwqw', 'abcdfg'])) # 0\n",
        "```\n",
        "\n",
        "----"
      ]
    },
    {
      "cell_type": "code",
      "metadata": {
        "id": "pWDpwtNqaPLN",
        "colab": {
          "base_uri": "https://localhost:8080/"
        },
        "outputId": "7d7e4a48-861a-4191-f5db-405a0ee1f584"
      },
      "source": [
        "# 과제 3번 코드란\n",
        "def solution(a):\n",
        "\n",
        "    first_string = a[0]\n",
        "\n",
        "    if len(first_string) == 0:\n",
        "        return 0\n",
        "\n",
        "    for i in range(len(a)-1):\n",
        "        check_string = a[i+1]\n",
        "\n",
        "        while len(first_string) > 0:\n",
        "            if first_string == check_string[:len(first_string)]:\n",
        "                break\n",
        "            else:\n",
        "                first_string = first_string[:len(first_string)-1]\n",
        "            \n",
        "        return len(first_string)\n",
        "\n",
        "# Test code\n",
        "print(solution(['abcd', 'abceff', 'abchg', 'abcfwqw', 'abcdfg'])) # 3\n",
        "print(solution(['abcd', 'gbce', 'abchg', 'abcfwqw', 'abcdfg'])) # 0\n"
      ],
      "execution_count": 5,
      "outputs": [
        {
          "output_type": "stream",
          "text": [
            "3\n",
            "0\n"
          ],
          "name": "stdout"
        }
      ]
    },
    {
      "cell_type": "markdown",
      "metadata": {
        "id": "pVygrfyBZ-mf"
      },
      "source": [
        "## 과제4.\n",
        "\n",
        "----\n",
        "자연수 중, **각 자리수를 제곱한 것을 더하는 과정을 반복했을 때 1으로 끝나는 수**를 '행복한 수'라고 한다. '행복한 수'가 아닌 경우 이 과정이 1에 도달하지 못하고 같은 **수열이 반복되는 무한 루프**에 빠지게 된다. 자연수를 입력받았을 때 '행복한 수'인지 판별하는 알고리즘을 작성하라.\n",
        "\n",
        "'행복한 수'를 찾는 과정의 예\n",
        "  ```\n",
        "  19이 행복한 수인지 확인하는 과정\n",
        "  1^2 + 9^2 = 82\n",
        "  8^2 + 2^2 = 68\n",
        "  6^2 + 8^2 = 100\n",
        "  1^2 + 0^2 + 0^2 = 1 --> True\n",
        "  ```\n",
        "\n",
        "```python\n",
        "def solution(n):\n",
        "    return True\n",
        "\n",
        "# Test code\n",
        "print(solution(19)) # True\n",
        "print(solution(61)) # False\n",
        "```\n",
        "\n",
        "----"
      ]
    },
    {
      "cell_type": "code",
      "metadata": {
        "id": "kwYofIu2Z-3e",
        "colab": {
          "base_uri": "https://localhost:8080/"
        },
        "outputId": "9cb86e34-557f-485c-ddab-7130f09f1027"
      },
      "source": [
        "# 과제 4번 코드란\n",
        "def solution(n):\n",
        "\n",
        "    try: \n",
        "        if n == 1:\n",
        "            return True\n",
        "\n",
        "        sum = 0\n",
        "        while(n > 0):\n",
        "            next_digit = n % 10\n",
        "            n = n // 10\n",
        "            sum += next_digit ** 2\n",
        "\n",
        "        return(solution(sum))\n",
        "    \n",
        "    except RecursionError:\n",
        "        return False\n",
        "\n",
        " \n",
        "# Test code\n",
        "print(solution(19)) # True\n",
        "print(solution(61)) # False\n"
      ],
      "execution_count": 9,
      "outputs": [
        {
          "output_type": "stream",
          "text": [
            "True\n",
            "False\n"
          ],
          "name": "stdout"
        }
      ]
    },
    {
      "cell_type": "markdown",
      "metadata": {
        "id": "kmzckUxxfWkw"
      },
      "source": [
        "----\n",
        "\n",
        "**수고하셨습니다!**\n",
        "\n",
        "----"
      ]
    },
    {
      "cell_type": "markdown",
      "metadata": {
        "id": "tgKiGrOIaU-t"
      },
      "source": [
        "## 과제 피드백 작성란\n",
        "\n",
        "----\n",
        "\n",
        "### 과제1\n",
        "\n",
        "### 과제2\n",
        "\n",
        "### 과제3\n",
        "\n",
        "### 과제4"
      ]
    }
  ]
}
