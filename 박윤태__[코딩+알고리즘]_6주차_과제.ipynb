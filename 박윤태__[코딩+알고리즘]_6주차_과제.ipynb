{
  "nbformat": 4,
  "nbformat_minor": 0,
  "metadata": {
    "colab": {
      "name": "박윤태_ - [코딩+알고리즘] 6주차 과제.ipynb",
      "provenance": [],
      "collapsed_sections": [],
      "include_colab_link": true
    },
    "kernelspec": {
      "display_name": "Python 3",
      "language": "python",
      "name": "python3"
    },
    "language_info": {
      "codemirror_mode": {
        "name": "ipython",
        "version": 3
      },
      "file_extension": ".py",
      "mimetype": "text/x-python",
      "name": "python",
      "nbconvert_exporter": "python",
      "pygments_lexer": "ipython3",
      "version": "3.8.5"
    }
  },
  "cells": [
    {
      "cell_type": "markdown",
      "metadata": {
        "id": "view-in-github",
        "colab_type": "text"
      },
      "source": [
        "<a href=\"https://colab.research.google.com/github/yoontaepark/Coding-Practice/blob/main/%EB%B0%95%EC%9C%A4%ED%83%9C__%5B%EC%BD%94%EB%94%A9%2B%EC%95%8C%EA%B3%A0%EB%A6%AC%EC%A6%98%5D_6%EC%A3%BC%EC%B0%A8_%EA%B3%BC%EC%A0%9C.ipynb\" target=\"_parent\"><img src=\"https://colab.research.google.com/assets/colab-badge.svg\" alt=\"Open In Colab\"/></a>"
      ]
    },
    {
      "cell_type": "markdown",
      "metadata": {
        "id": "wS0WJ3F9SoRp"
      },
      "source": [
        "# 6주차 과제 공지사항\n",
        "\n",
        "----\n",
        "\n",
        "1. 아래의 과제를 보고 코드를 작성하시면 됩니다.\n",
        "2. 멘토님께서 과제에 대한 코드를 실행한 후에 정량적/정성적으로 평가가 됩니다.\n",
        "3. 멘토님께서는 과제평가에 대한 체크리스트를 작성한 뒤에 객관적으로 코드에 대한 평가를 할 예정입니다.\n",
        "4. 과제에 대한 점수는 100점 만점으로 진행이 됩니다.\n",
        "5. 퀴즈 및 과제에 대한 평가는 모든 수강생들의 평가가 완료되면 확인할 수 있습니다. 참고부탁드립니다.\n",
        "6. 퀴즈 및 과제기한은 일요일 저녁 10시 까지 입니다. 10시 이후에는 코드작성이 불가하오니 이 점 참고부탁드립니다.\n",
        "7. 반드시 코드 작성란에만 코드를 작성하시고, 그 외에는 절대로 내용을 수정하지 마세요.\n",
        "8. 작성란에 작성된 코드가 동작하는지 반드시 확인하세요. 코드가 동작하지 않으면 0점처리됩니다.\n",
        "9. 과제의 채점 시 입력은 달라질 수 있습니다. 다른 입력에도 동작할 수 있는 코드를 작성해 주세요.\n",
        "10. ***예시 입출력이 주어진 경우, 최소한 예시 입력에 대해 출력이 정상적으로 이루어져야 점수가 주어집니다. 예시 입력에 대해 동작시키는 것은 과제 제출의 최소 조건입니다.***\n",
        "11. ***예시 입력에 대해 출력이 정상적으로 되더라도, 코드의 내용이 적합하지 않은 경우 감점이 이루어집니다.***\n",
        "\n",
        "- 문제 출처\n",
        "  - 과제1, 과제3: Leetcode\n",
        "  - 과제2: 프로그래머스\n",
        "  - 과제5: BOJ\n",
        "\n",
        "----"
      ]
    },
    {
      "cell_type": "markdown",
      "metadata": {
        "id": "O4MMgk1OTzmH"
      },
      "source": [
        "----\n",
        "\n",
        "## 종합 점수 (/100)\n",
        "\n",
        "----"
      ]
    },
    {
      "cell_type": "markdown",
      "metadata": {
        "id": "JoFcF8ljTR6p"
      },
      "source": [
        "## 과제1.\n",
        "\n",
        "----\n",
        "리스트 `[1,2,3,...,n]` 를 섞는 방법은 총 `n!` 가지이다. `n = 3`일 때 `3! = 6`개의 섞은 결과는 아래와 같은 순서를 가진다고 하자.\n",
        "\n",
        "```python\n",
        "[1, 2, 3]\n",
        "[1, 3, 2]\n",
        "[2, 1, 3]\n",
        "[2, 3, 1]\n",
        "[3, 1, 2]\n",
        "[3, 2, 1]\n",
        "```\n",
        "\n",
        "n과 k가 주어졌을 때, k번째 섞은 결과를 반환하시오. (단, `1 <= n <= 9`, `1 <= k <= n!`)\n",
        "\n",
        "예시입력\n",
        "\n",
        "|n|k|return|\n",
        "|-|-|--|\n",
        "|3|3|`[2, 1, 3]`|\n",
        "|4|9|`[2, 3, 1, 4]`|\n",
        "\n",
        "```python\n",
        "def solution(n, k):\n",
        "    return []\n",
        "```\n",
        "----"
      ]
    },
    {
      "cell_type": "code",
      "metadata": {
        "id": "MpNgU-Ftq8Oh",
        "colab": {
          "base_uri": "https://localhost:8080/"
        },
        "outputId": "fdcd74f5-cc7e-4157-a2ef-a473d4545927"
      },
      "source": [
        "# 과제1번 코드란\n",
        "def update(the_list, n, result): \n",
        "    templist = the_list[n:] \n",
        "    templist.sort() \n",
        "    the_list = the_list[:n]+templist\n",
        "    result.append(the_list.copy())\n",
        "    return the_list\n",
        "\n",
        "def solution(n, k):\n",
        "    source = [x for x in range(1, int(n) + 1)] \n",
        "    resource = [x for x in range(int(n), 0, -1)] \n",
        "    result = [source.copy()] \n",
        "    \n",
        "    while source != resource: \n",
        "        for i in range(len(source)-1, 0, -1): \n",
        "            if source[i] > source[i-1]: \n",
        "                for j in range(i, len(source)): \n",
        "                    if source[i-1] > source[j]: \n",
        "                        temp = source[i-1]\n",
        "                        source[i-1] = source[j-1] \n",
        "                        source[j-1] = temp \n",
        "                        source = update(source, i, result)\n",
        "                        break \n",
        "                    elif j == len(source) - 1:\n",
        "                        temp = source[i-1] \n",
        "                        source[i-1] = source[j] \n",
        "                        source[j] = temp \n",
        "                        source = update(source, i, result)\n",
        "                        break\n",
        "                break\n",
        "\n",
        "    return result[k-1]\n",
        "\n",
        "print(solution(3, 3))\n",
        "print()\n",
        "print(solution(4, 9))\n"
      ],
      "execution_count": 2,
      "outputs": [
        {
          "output_type": "stream",
          "text": [
            "[2, 1, 3]\n",
            "\n",
            "[2, 3, 1, 4]\n"
          ],
          "name": "stdout"
        }
      ]
    },
    {
      "cell_type": "markdown",
      "metadata": {
        "id": "jmayiflbYYW6"
      },
      "source": [
        "## 과제2.\n",
        "\n",
        "----\n",
        "아래와 같이 5와 사칙연산만으로 12를 표현할 수 있습니다.\n",
        "\n",
        "```\n",
        "12 = 5 + 5 + (5 / 5) + (5 / 5)\n",
        "12 = 55 / 5 + 5 / 5\n",
        "12 = (55 + 5) / 5\n",
        "```\n",
        "\n",
        "5를 사용한 횟수는 각각 6,5,4 입니다. 그리고 이중 가장 작은 경우는 4입니다.\n",
        "이처럼 숫자 N과 number가 주어질 때, N과 사칙연산만 사용해서 표현 할 수 있는 방법 중 N 사용횟수의 최솟값을 return 하도록 solution 함수를 작성하세요.\n",
        "\n",
        "제한사항\n",
        "\n",
        "- N은 1 이상 9 이하입니다.\n",
        "- number는 1 이상 32,000 이하입니다.\n",
        "- 수식에는 괄호와 사칙연산만 가능하며 나누기 연산에서 나머지는 무시합니다.\n",
        "- 최솟값이 8보다 크면 -1을 return 합니다.\n",
        "\n",
        "입출력 예\n",
        "\n",
        "|N|number|return|\n",
        "|-|------|-----|\n",
        "|5|12|4|\n",
        "|2|11|3|\n",
        "\n",
        "입출력 예 설명\n",
        "\n",
        "- 예제 #1: 문제에 나온 예와 같습니다.\n",
        "- 예제 #2: `11 = 22 / 2`와 같이 2를 3번만 사용하여 표현할 수 있습니다.\n",
        "\n",
        "```python\n",
        "def solution(N, number)\n",
        "    return 0\n",
        "```\n",
        "----"
      ]
    },
    {
      "cell_type": "code",
      "metadata": {
        "id": "bmA6c6EMYY7o",
        "colab": {
          "base_uri": "https://localhost:8080/"
        },
        "outputId": "80d749d1-9c13-429e-da6b-3e662fb2e597"
      },
      "source": [
        "# 과제 2번 코드란\n",
        "def solution(N, number):\n",
        "    result = -1\n",
        "    dp = []\n",
        "\n",
        "    for i in range(1, 9):\n",
        "        all_case = set()\n",
        "        check_num = int(str(N) * i)\n",
        "        all_case.add(check_num)\n",
        "    \n",
        "        for j in range(0, i-1):\n",
        "            for op1 in dp[j]:\n",
        "                for op2 in dp[-j-1]:\n",
        "                    all_case.add(op1 - op2)\n",
        "                    all_case.add(op1 + op2)\n",
        "                    all_case.add(op1 * op2)\n",
        "                    if op2 != 0:\n",
        "                        all_case.add(op1 // op2)\n",
        "        \n",
        "                    \n",
        "        if number in all_case:\n",
        "            result = i\n",
        "            break\n",
        "\n",
        "        dp.append(all_case)\n",
        "\n",
        "    return result\n",
        "\n",
        "print(solution(5,12))\n",
        "print(solution(2,11))\n",
        "\n",
        "\n",
        "\n",
        "\n",
        "\n",
        "\n"
      ],
      "execution_count": 3,
      "outputs": [
        {
          "output_type": "stream",
          "text": [
            "4\n",
            "3\n"
          ],
          "name": "stdout"
        }
      ]
    },
    {
      "cell_type": "markdown",
      "metadata": {
        "id": "fzlpa3FVZpcL"
      },
      "source": [
        "## 과제3.\n",
        "\n",
        "----\n",
        "n개의 정수로 이루어진 리스트 nums와 정수 target이 주어졌을 때, nums에 있는 정수 4개를 합하여 target을 만들 수 있는 모든 조합을 구하시오. 단, 정답에는 동일한 정수 조합이 여러개 포함되어서는 안된다.\n",
        "\n",
        "예시 입력\n",
        "```python\n",
        "nums = [1, 0, -1, 0, -2, 2]\n",
        "target = 0\n",
        "```\n",
        "출력:\n",
        "```\n",
        "[\n",
        "  [-1,  0, 0, 1],\n",
        "  [-2, -1, 1, 2],\n",
        "  [-2,  0, 0, 2]\n",
        "]\n",
        "```\n",
        "\n",
        "```python\n",
        "def solution(nums, target):\n",
        "    return []\n",
        "```\n",
        "\n",
        "----"
      ]
    },
    {
      "cell_type": "code",
      "metadata": {
        "id": "pWDpwtNqaPLN",
        "colab": {
          "base_uri": "https://localhost:8080/"
        },
        "outputId": "8688ce5b-ffcb-4bca-add4-100f8291895a"
      },
      "source": [
        "# 과제 3번 코드란\n",
        "def solution(nums, target):\n",
        "    nums.sort()\n",
        "    size = len(nums)\n",
        "    res = []\n",
        "    for i in range(size-3):\n",
        "        if i==0 or (i>0 and nums[i] != nums[i-1]):\n",
        "            for j in range(i+1,size-2):\n",
        "                if j == i+1 or (j > i+1 and nums[j] != nums[j-1]) :\n",
        "                    lo, hi, ts = j+1, size-1, target-(nums[i] +nums[j])\n",
        "                    while lo < hi:\n",
        "                        if nums[lo] + nums[hi] == ts :\n",
        "                            res.append([nums[i],nums[j],nums[lo],nums[hi]])\n",
        "                            while lo <hi and nums[lo] == nums[lo+1] :\n",
        "                                lo+=1\n",
        "                            while lo < hi and nums[hi] == nums[hi-1] : \n",
        "                                hi-=1\n",
        "                            lo+=1\n",
        "                            hi-=1\n",
        "                        elif nums[lo] + nums[hi] < ts :\n",
        "                            lo+=1\n",
        "                        else:\n",
        "                            hi-=1\n",
        "\n",
        "    return res    \n",
        "\n",
        "nums = [1, 0, -1, 0, -2, 2]\n",
        "target = 0\n",
        "print(solution(nums, target))\n",
        "\n",
        "\n",
        "\n",
        "\n",
        "\n",
        "\n",
        "\n"
      ],
      "execution_count": 4,
      "outputs": [
        {
          "output_type": "stream",
          "text": [
            "[[-2, -1, 1, 2], [-2, 0, 0, 2], [-1, 0, 0, 1]]\n"
          ],
          "name": "stdout"
        }
      ]
    },
    {
      "cell_type": "markdown",
      "metadata": {
        "id": "pVygrfyBZ-mf"
      },
      "source": [
        "## 과제4.\n",
        "\n",
        "----\n",
        "정수로 이루어진 수열 x가 주어졌을 때, `x[i-1] < x[i], x[i+1] < x[i]`인 `x[i]`를 피크라고 부른다. 수열 x에 피크가 단 하나 반드시 존재할 때, 이 피크를 찾아 출력하는 `O(logN)` 알고리즘을 구현하시오. (단, 수열 x의 길이가 N일 때, 반드시 `x[0] <= x[1]`이며, `x[N-1] <= x[N-2]`이다.)\n",
        "\n",
        "예시 입력\n",
        "\n",
        "|x | return|\n",
        "|--|----|\n",
        "|`[-4, -4, -2, 0, 0, 2, 4, 5, 6, 3, 2, -4, -6]` | 6 |\n",
        "|`[-1, -1, -1, -1, 0, 1, 20, 19, 17]` | 20 |\n",
        "\n",
        "```python\n",
        "def solution(x):\n",
        "    return 0\n",
        "```\n",
        "\n",
        "----"
      ]
    },
    {
      "cell_type": "code",
      "metadata": {
        "id": "kwYofIu2Z-3e",
        "colab": {
          "base_uri": "https://localhost:8080/"
        },
        "outputId": "924dec99-9468-4133-d53a-8e9b869b6965"
      },
      "source": [
        "# 과제 4번 코드란\n",
        "\n",
        "def solution(x):\n",
        "    len_x = len(x)\n",
        "    if len_x < 2:\n",
        "        return x[0]\n",
        "    if x[0]>x[1]:\n",
        "        return x[0]\n",
        "    if x[-1]>x[-2]:\n",
        "        return x[len_x -1]\n",
        "    l = 1\n",
        "    r = len_x-2\n",
        "    while l <= r:\n",
        "        mid = (l+r)//2\n",
        "        if x[mid] >= x[mid-1] and x[mid]>= x[mid+1]:\n",
        "            return x[mid]\n",
        "        if x[mid-1] < x[mid+1]:\n",
        "            l = mid+1\n",
        "        else :\n",
        "            r = mid-1\n",
        "    return -1\n",
        "\n",
        "\n",
        "x = [-4, -4, -2, 0, 0, 2, 4, 5, 6, 3, 2, -4, -6]\n",
        "print(solution(x))\n",
        "\n",
        "x = [-1, -1, -1, -1, 0, 1, 20, 19, 17]\n",
        "print(solution(x))\n",
        "\n",
        "\n",
        "\n",
        "\n",
        "\n",
        "\n",
        "\n"
      ],
      "execution_count": 5,
      "outputs": [
        {
          "output_type": "stream",
          "text": [
            "6\n",
            "20\n"
          ],
          "name": "stdout"
        }
      ]
    },
    {
      "cell_type": "markdown",
      "metadata": {
        "id": "O-aPKjuSAtc6"
      },
      "source": [
        "## 과제5.\n",
        "\n",
        "----\n",
        "\n",
        "그래프를 DFS로 탐색한 결과를 출력하는 프로그램을 작성하시오. 단, 방문할 수 있는 정점이 여러 개인 경우에는 정점 번호가 작은 것을 먼저 방문하고, 더 이상 방문할 수 있는 점이 없는 경우 종료한다. 정점 번호는 1번부터 N번까지이다.\n",
        "\n",
        "- 입력: 첫째 줄에 정점의 개수 N(1 ≤ N ≤ 1,000), 간선의 개수 M(1 ≤ M ≤ 10,000), 탐색을 시작할 정점의 번호 V가 주어진다. 다음 M개의 줄에는 간선이 연결하는 두 정점의 번호가 주어진다. 어떤 두 정점 사이에 여러 개의 간선이 있을 수 있다. 입력으로 주어지는 간선은 양방향이다.\n",
        "\n",
        "- 출력: V부터 방문된 점을 순서대로 출력한다.\n",
        "\n",
        "- 예시 입출력\n",
        "\n",
        "|N| M| V| edges| 출력|\n",
        "|--|--|--|-----|-------|\n",
        "|4|5|1|[[1, 2], [1, 3], [1,4], [2, 3], [3, 4]]|1 2 3 4|\n",
        "\n",
        "----"
      ]
    },
    {
      "cell_type": "code",
      "metadata": {
        "id": "eZz8JAl5Atc9",
        "colab": {
          "base_uri": "https://localhost:8080/"
        },
        "outputId": "7c40a166-c4b0-434b-cc77-95f53b113810"
      },
      "source": [
        "# 과제 5번 코드란\n",
        "N, M, V = 4, 5, 1\n",
        "edges = [[1, 2], [1, 3], [1, 4], [2, 3], [3, 4]]\n",
        "\n",
        "def solution(N, M, V, edges):\n",
        "    visited = [False] * (N+1)\n",
        "    adj = [[] for _ in range(N+1)]\n",
        "\n",
        "    for x, y in edges:\n",
        "        adj[x].append(y)\n",
        "        adj[y].append(x)\n",
        "    \n",
        "    for e in adj:\n",
        "        e.sort()\n",
        "    \n",
        "    def dfs(start):\n",
        "        print(start, end=' ')\n",
        "        visited[start] = True\n",
        "        for e in adj[start]:\n",
        "            if not visited[e]:\n",
        "                dfs(e)\n",
        "    dfs(V)\n",
        "\n",
        "solution(N, M, V, edges)"
      ],
      "execution_count": 7,
      "outputs": [
        {
          "output_type": "stream",
          "text": [
            "1 2 3 4 "
          ],
          "name": "stdout"
        }
      ]
    },
    {
      "cell_type": "markdown",
      "metadata": {
        "id": "kmzckUxxfWkw"
      },
      "source": [
        "----\n",
        "\n",
        "**수고하셨습니다!**\n",
        "\n",
        "----"
      ]
    },
    {
      "cell_type": "markdown",
      "metadata": {
        "id": "tgKiGrOIaU-t"
      },
      "source": [
        "## 과제 피드백 작성란\n",
        "\n",
        "----\n",
        "\n",
        "### 과제1\n",
        "\n",
        "### 과제2\n",
        "\n",
        "### 과제3\n",
        "\n",
        "### 과제4"
      ]
    }
  ]
}