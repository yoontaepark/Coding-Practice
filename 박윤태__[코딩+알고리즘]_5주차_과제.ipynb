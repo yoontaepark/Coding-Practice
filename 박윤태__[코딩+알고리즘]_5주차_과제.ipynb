{
  "nbformat": 4,
  "nbformat_minor": 0,
  "metadata": {
    "colab": {
      "name": "박윤태_ - [코딩+알고리즘] 5주차 과제.ipynb",
      "provenance": [],
      "collapsed_sections": [],
      "include_colab_link": true
    },
    "kernelspec": {
      "display_name": "Python 3",
      "language": "python",
      "name": "python3"
    },
    "language_info": {
      "codemirror_mode": {
        "name": "ipython",
        "version": 3
      },
      "file_extension": ".py",
      "mimetype": "text/x-python",
      "name": "python",
      "nbconvert_exporter": "python",
      "pygments_lexer": "ipython3",
      "version": "3.8.5"
    }
  },
  "cells": [
    {
      "cell_type": "markdown",
      "metadata": {
        "id": "view-in-github",
        "colab_type": "text"
      },
      "source": [
        "<a href=\"https://colab.research.google.com/github/yoontaepark/Coding-Practice/blob/main/%EB%B0%95%EC%9C%A4%ED%83%9C__%5B%EC%BD%94%EB%94%A9%2B%EC%95%8C%EA%B3%A0%EB%A6%AC%EC%A6%98%5D_5%EC%A3%BC%EC%B0%A8_%EA%B3%BC%EC%A0%9C.ipynb\" target=\"_parent\"><img src=\"https://colab.research.google.com/assets/colab-badge.svg\" alt=\"Open In Colab\"/></a>"
      ]
    },
    {
      "cell_type": "markdown",
      "metadata": {
        "id": "wS0WJ3F9SoRp"
      },
      "source": [
        "# 5주차 과제 공지사항\n",
        "\n",
        "----\n",
        "\n",
        "1. 아래의 과제를 보고 코드를 작성하시면 됩니다.\n",
        "2. 멘토님께서 과제에 대한 코드를 실행한 후에 정량적/정성적으로 평가가 됩니다.\n",
        "3. 멘토님께서는 과제평가에 대한 체크리스트를 작성한 뒤에 객관적으로 코드에 대한 평가를 할 예정입니다.\n",
        "4. 과제에 대한 점수는 100점 만점으로 진행이 됩니다.\n",
        "5. 퀴즈 및 과제에 대한 평가는 모든 수강생들의 평가가 완료되면 확인할 수 있습니다. 참고부탁드립니다.\n",
        "6. 퀴즈 및 과제기한은 일요일 저녁 10시 까지 입니다. 10시 이후에는 코드작성이 불가하오니 이 점 참고부탁드립니다.\n",
        "7. 미션통과 대상자의 경우, 평균 6주차 말 / 7주차 초에 미션환급액이 입금이 될 예정입니다. 참고부탁드립니다.\n",
        "8. 반드시 코드 작성란에만 코드를 작성하시고, 그 외에는 절대로 내용을 수정하지 마세요.\n",
        "9. 작성란에 작성된 코드가 동작하는지 반드시 확인하세요. 코드가 동작하지 않으면 0점처리됩니다.\n",
        "10. 과제의 채점 시 입력은 달라질 수 있습니다. 다른 입력에도 동작할 수 있는 코드를 작성해 주세요.\n",
        "11. ***예시 입출력이 주어진 경우, 최소한 예시 입력에 대해 출력이 정상적으로 이루어져야 점수가 주어집니다. 예시 입력에 대해 동작시키는 것은 과제 제출의 최소 조건입니다.***\n",
        "12. ***예시 입력에 대해 출력이 정상적으로 되더라도, 코드의 내용이 적합하지 않은 경우 감점이 이루어집니다.***\n",
        "\n",
        "- 문제 출처\n",
        "  - 과제1, 4: Leetcode\n",
        "  - 과제3: 프로그래머스\n",
        "\n",
        "----"
      ]
    },
    {
      "cell_type": "markdown",
      "metadata": {
        "id": "O4MMgk1OTzmH"
      },
      "source": [
        "----\n",
        "\n",
        "## 종합 점수 (/100)\n",
        "\n",
        "----"
      ]
    },
    {
      "cell_type": "markdown",
      "metadata": {
        "id": "JoFcF8ljTR6p"
      },
      "source": [
        "## 과제1.\n",
        "\n",
        "----\n",
        "이진 탐색법은 정렬된 자료를 탐색하는 데에 사용할 수 있다. 이진탐색을 이용하여 인덱스가 낮을 수록 더 작은 값으로 정렬된 2차원 리스트에서 `target`을 찾으면 True를 반환하고, `target`을 찾을 수 없으면 False를 반환하는 프로그램을 작성하시오.\n",
        "\n",
        "예시 입력1\n",
        "```python\n",
        "matrix = [\n",
        "  [1,   3,  5,  7],\n",
        "  [10, 11, 16, 20],\n",
        "  [23, 30, 34, 50]\n",
        "]\n",
        "target = 3\n",
        "출력: True\n",
        "```\n",
        "\n",
        "예시 입력2\n",
        "```python\n",
        "matrix = [\n",
        "  [1,   3,  5,  7],\n",
        "  [10, 11, 16, 20],\n",
        "  [23, 30, 34, 50]\n",
        "]\n",
        "target = 13\n",
        "출력: False\n",
        "```\n",
        "\n",
        "```python\n",
        "def searchMatrix(matrix, target):\n",
        "    pass\n",
        "```\n",
        "----"
      ]
    },
    {
      "cell_type": "code",
      "metadata": {
        "id": "MpNgU-Ftq8Oh",
        "colab": {
          "base_uri": "https://localhost:8080/"
        },
        "outputId": "5c6157a9-b6a3-48bc-b4ab-37fdf70ed726"
      },
      "source": [
        "# 과제1번 코드란\n",
        "def searchMatrix(matrix, target):\n",
        "    if len(matrix) == 1 and target == matrix[0]:\n",
        "        return True\n",
        "    if len(matrix) == 1 and target != matrix[0]:\n",
        "        return False\n",
        "    if len(matrix) == 0:\n",
        "        return False\n",
        "    \n",
        "    medium = len(matrix) // 2\n",
        "    if target == matrix[medium]:\n",
        "        return True\n",
        "    else:\n",
        "        if target > matrix[medium]:\n",
        "            return searchMatrix(matrix[medium+1:], target)\n",
        "        else:\n",
        "            return searchMatrix(matrix[:medium], target)\n",
        "\n",
        "# 예시1\n",
        "matrix = [\n",
        "  [1,   3,  5,  7],\n",
        "  [10, 11, 16, 20],\n",
        "  [23, 30, 34, 50]\n",
        "]\n",
        "\n",
        "target = 3\n",
        "new_matrix = sum(matrix, []) # 2차원 배열을 1차원으로 풀기\n",
        "\n",
        "print(searchMatrix(new_matrix, target))\n",
        "\n",
        "# 예시2\n",
        "matrix = [\n",
        "  [1,   3,  5,  7],\n",
        "  [10, 11, 16, 20],\n",
        "  [23, 30, 34, 50]\n",
        "]\n",
        "\n",
        "target = 13\n",
        "new_matrix = sum(matrix, []) # 2차원 배열을 1차원으로 풀기\n",
        "\n",
        "print(searchMatrix(new_matrix, target))\n",
        "\n",
        "\n"
      ],
      "execution_count": null,
      "outputs": [
        {
          "output_type": "stream",
          "text": [
            "True\n",
            "False\n"
          ],
          "name": "stdout"
        }
      ]
    },
    {
      "cell_type": "markdown",
      "metadata": {
        "id": "jmayiflbYYW6"
      },
      "source": [
        "## 과제2.\n",
        "\n",
        "----\n",
        "두 문자열 A와 B가 있을 때, 두 문자열의 '최대공약문자열' C를 아래와 같이 정의하자.\n",
        "\n",
        "1. 문자열 C를 반복하여 문자열 A와 B를 생성할 수 있다.\n",
        "1. 가능한 C 중에 가장 긴 문자열을 C로 한다.\n",
        "1. 위 조건을 만족하는 C가 없으면 빈 문자열을 C로 한다.\n",
        "\n",
        "이 때, 문자열 A와 B를 입력받아 C를 출력하는 프로그램을 작성하시오.\n",
        "\n",
        "예시입력1\n",
        "```python\n",
        "A = 'ababcde'\n",
        "B = 'ababcde'\n",
        "출력: 'ababcde'\n",
        "```\n",
        "\n",
        "예시입력2\n",
        "```python\n",
        "A = 'ababababab'\n",
        "B = 'abab'\n",
        "출력: 'ab'\n",
        "```\n",
        "\n",
        "예시입력3\n",
        "```python\n",
        "A = 'abababab'\n",
        "B = 'abab'\n",
        "출력: 'abab'\n",
        "```\n",
        "\n",
        "예시입력3\n",
        "```python\n",
        "A = 'fast'\n",
        "B = 'campus'\n",
        "출력: ''\n",
        "```\n",
        "\n",
        "```python\n",
        "def gcdString(A, B):\n",
        "    pass\n",
        "```\n",
        "----"
      ]
    },
    {
      "cell_type": "code",
      "metadata": {
        "id": "bmA6c6EMYY7o",
        "colab": {
          "base_uri": "https://localhost:8080/"
        },
        "outputId": "65a588c2-ae4e-4347-cf0b-414c210ccb05"
      },
      "source": [
        "# 과제 2번 코드란\n",
        "def gcdString(A, B):\n",
        "\n",
        "    l1, l2 = len(A), len(B)\n",
        "    res = \"''\"\n",
        "\n",
        "    for i in range(min(l1,l2), 0, -1):\n",
        "        if l1 % i or l2 % i:\n",
        "            continue\n",
        "        t1, t2 = l1 // i, l2 // i\n",
        "        gcd = A[:i]\n",
        "        rebuild_A = gcd * t1\n",
        "        rebuild_B = gcd * t2\n",
        "\n",
        "        if rebuild_A == A and rebuild_B == B:\n",
        "            res = gcd\n",
        "            break\n",
        "\n",
        "    return res\n",
        "\n",
        "  \n",
        "\n",
        "\n",
        "A = 'ababcde'\n",
        "B = 'ababcde'\n",
        "print(gcdString(A, B))\n",
        "\n",
        "A = 'ababababab'\n",
        "B = 'abab'\n",
        "print(gcdString(A, B))\n",
        "\n",
        "A = 'abababab'\n",
        "B = 'abab'\n",
        "print(gcdString(A, B))\n",
        "\n",
        "A = 'fast'\n",
        "B = 'campus'\n",
        "print(gcdString(A, B))\n",
        "\n"
      ],
      "execution_count": null,
      "outputs": [
        {
          "output_type": "stream",
          "text": [
            "ababcde\n",
            "ab\n",
            "abab\n",
            "''\n"
          ],
          "name": "stdout"
        }
      ]
    },
    {
      "cell_type": "markdown",
      "metadata": {
        "id": "fzlpa3FVZpcL"
      },
      "source": [
        "## 과제3.\n",
        "\n",
        "----\n",
        "n개의 노드가 있는 그래프가 있다. 각 노드는 1부터 n까지 번호가 적혀있다. 1번 노드에서 가장 멀리 떨어진 노드의 갯수를 구하려고 한다. 가장 멀리 떨어진 노드란 최단경로로 이동했을 때 간선의 개수가 가장 많은 노드들을 의미한다.\n",
        "\n",
        "노드의 개수 n, 간선에 대한 정보가 담긴 2차원 배열 vertex가 매개변수로 주어질 때, 1번 노드로부터 가장 멀리 떨어진 노드가 몇 개인지를 return 하도록 solution 함수를 작성하라.\n",
        "\n",
        "- 제한사항\n",
        "  - 노드의 개수 n은 2 이상 20,000 이하입니다.\n",
        "  - 간선은 양방향이며 총 1개 이상 50,000개 이하의 간선이 있습니다.\n",
        "  - vertex 배열 각 행 `[a, b]`는 a번 노드와 b번 노드 사이에 간선이 있다는 의미입니다.\n",
        "\n",
        "- 입출력 예\n",
        "\n",
        "|n|vertex|return|\n",
        "|--|-----|------|\n",
        "|6|`[[3, 6], [4, 3], [3, 2], [1, 3], [1, 2], [2, 4], [5, 2]]`|3|\n",
        "\n",
        "\n",
        "```python\n",
        "def solution(n, vertex):\n",
        "    return 0\n",
        "\n",
        "```\n",
        "\n",
        "----"
      ]
    },
    {
      "cell_type": "code",
      "metadata": {
        "id": "pWDpwtNqaPLN",
        "colab": {
          "base_uri": "https://localhost:8080/"
        },
        "outputId": "6f7d4608-d588-4a76-f6e6-6657cb5a2dec"
      },
      "source": [
        "# 과제 3번 코드란\n",
        "\n",
        "def solution(n, vertex):\n",
        "\n",
        "    # initialize\n",
        "    arr = [[] for _ in range(6)]\n",
        "    visit = [0 for _ in range(6)]\n",
        "    distance = [0 for _ in range(6)]\n",
        "    answer = 0\n",
        "\n",
        "    # arr배열을 만들어서, 각 노드번호가 어느 노드들을 가리키고 있는지 저장\n",
        "    for i in vertex:\n",
        "        x = i[0] - 1\n",
        "        y = i[1] - 1\n",
        "        arr[x].append(y)\n",
        "        arr[y].append(x)\n",
        "\n",
        "    # pop할 첫 큐 초기화, 첫 노드는 방문횟수를 1로 초기화\n",
        "    q = [0]\n",
        "    visit[0] = 1\n",
        "\n",
        "    # pop이 끝날때까지 while문 반복\n",
        "    while q:\n",
        "        # 가장 첫번째(왼쪽) 값을 pop한다\n",
        "        x = q.pop(0)\n",
        "\n",
        "        # pop한 인덱스를 for문으로 돌리면서 거리를 추가\n",
        "        for i in arr[x]:\n",
        "            # 방문횟수가 아예 없다면 1로 바꿔주면서 큐에 넣는다\n",
        "            if visit[i] == 0:\n",
        "                visit[i] = 1\n",
        "                q.append(i)\n",
        "\n",
        "                # 방문횟수가 늘어나면 거리도 1 늘려준다. 단, 노드 1번에서의 거리를 재야하기 때문에, 1부터 연결된 이전 노드까지의 거리 + 1 로 해줘야 함\n",
        "                distance[i] = distance[x] + 1\n",
        "    \n",
        "    # distance의 max를 뽑고 그 max 개수를 저장 및 리턴\n",
        "    answer = distance.count(max(distance))\n",
        "    return answer                \n",
        "\n",
        "\n",
        "# 예시 test\n",
        "n = 6\n",
        "vertex = [[3, 6], [4, 3], [3, 2], [1, 3], [1, 2], [2, 4], [5, 2]]\n",
        "\n",
        "print(solution(n, vertex))\n"
      ],
      "execution_count": 2,
      "outputs": [
        {
          "output_type": "stream",
          "text": [
            "3\n"
          ],
          "name": "stdout"
        }
      ]
    },
    {
      "cell_type": "markdown",
      "metadata": {
        "id": "pVygrfyBZ-mf"
      },
      "source": [
        "## 과제4.\n",
        "\n",
        "----\n",
        "마을에 1부터 N의 고유 번호를 가진 사람들이 있다. 소문으로는 마을 사람 중에 마을 판사가 있다고 한다. 마을 판사가 실제로 존재한다면,\n",
        "\n",
        "- 마을 판사는 아무도 믿지 않는다.\n",
        "- 다른 모든 사람들은 마을 판사를 믿는다.\n",
        "- 마을 판사가 있다면 오직 한명 뿐이다.\n",
        "\n",
        "리스트 trust가 주어졌을 때, `trust[i] = [a, b]`는 고유 번호가 a인 사람이 고유 번호가 b인 사람을 믿는다는 것을 의미한다고 한다. \n",
        "\n",
        "마을 판사가 존재한다면 마을 판사의 고유 번호를, 존재하지 않는다면 -1을 출력하는 프로그램을 작성하시오.\n",
        "\n",
        "(단, a가 b를 믿고 b가 c를 믿는다고 할 때, a가 c를 믿는다는 의미는 아니다.)\n",
        "\n",
        "예시입력\n",
        "\n",
        "|N| trust| 출력|\n",
        "|-|------|----|\n",
        "|2| `[[1,2]]`| 2|\n",
        "|3| `[[1,3],[2,3]]` | 3 |\n",
        "|3| `[[1,3],[2,3],[3,1]]`| -1 |\n",
        "|3|`[[1,2],[2,3]]` | -1 |\n",
        "|4|`[[1,3],[1,4],[2,3],[2,4],[4,3]]`| 3 |\n",
        "\n",
        "```python\n",
        "def solution(N, trust):\n",
        "    return -1\n",
        "```\n",
        "\n",
        "----"
      ]
    },
    {
      "cell_type": "code",
      "metadata": {
        "id": "kwYofIu2Z-3e",
        "colab": {
          "base_uri": "https://localhost:8080/"
        },
        "outputId": "ee66479b-4feb-43b6-cf00-9895d608cde8"
      },
      "source": [
        "# 과제 4번 코드란\n",
        "\n",
        "# 배열을 두개 만들기 (내가 타인을 믿는 횟수, 타인이 나를 믿는 횟수)\n",
        "# 리스트가 한번씩 돌때마다, 첫번째 배열과 두번째 배열을 각각 업데이트해서, \n",
        "# 최종적으로 [0, N-1] 이 있는지 확인하고, 있다면 해당 배열의 인덱스를 +1해서 출력 (없으면 -1)\n",
        "def solution(N, trust):\n",
        "    \n",
        "    # 사람이 한명이라면 판사인지 아닌지 알 수 없음\n",
        "    if N == 1:\n",
        "        return \"Can't decide\"\n",
        "    \n",
        "    # 초기화\n",
        "    people = [0 for _ in range(N)]\n",
        "    trusted = [0 for _ in range(N)]\n",
        "\n",
        "    # trust 리스트를 돌리면서, 각 배열의 인덱스를 찾아가서 값을 1씩 더해줌 \n",
        "    for i in range(len(trust)):\n",
        "        people[trust[i][0]-1] += 1\n",
        "        trusted[trust[i][1]-1] += 1\n",
        "    \n",
        "    # 다 돌고나서 0,N-1을 찾기, 있으면 해당 배열 인덱스번호 + 1\n",
        "    if N-1 in trusted and 0 in people and people.index(0) == trusted.index(N-1):\n",
        "        return trusted.index(N-1)+1\n",
        "    \n",
        "    return -1\n",
        "\n",
        "N = 2\n",
        "trust = [[1,2]]\t\n",
        "print(solution(N, trust))\n",
        "\n",
        "\n",
        "N = 3\n",
        "trust = [[1,3],[2,3]]\t\n",
        "print(solution(N, trust))\n",
        "\n",
        "N = 3\n",
        "trust = [[1,3],[2,3],[3,1]]\t \n",
        "print(solution(N, trust))\n",
        "\n",
        "N = 3\n",
        "trust = [[1,2],[2,3]]\t\n",
        "print(solution(N, trust))\n",
        "\n",
        "N = 4\n",
        "trust = [[1,3],[1,4],[2,3],[2,4],[4,3]]\t\n",
        "print(solution(N, trust))\n"
      ],
      "execution_count": 4,
      "outputs": [
        {
          "output_type": "stream",
          "text": [
            "2\n",
            "3\n",
            "-1\n",
            "-1\n",
            "3\n"
          ],
          "name": "stdout"
        }
      ]
    },
    {
      "cell_type": "markdown",
      "metadata": {
        "id": "kmzckUxxfWkw"
      },
      "source": [
        "----\n",
        "\n",
        "**수고하셨습니다!**\n",
        "\n",
        "----"
      ]
    },
    {
      "cell_type": "markdown",
      "metadata": {
        "id": "tgKiGrOIaU-t"
      },
      "source": [
        "## 과제 피드백 작성란\n",
        "\n",
        "----\n",
        "\n",
        "### 과제1\n",
        "\n",
        "### 과제2\n",
        "\n",
        "### 과제3\n",
        "\n",
        "### 과제4"
      ]
    }
  ]
}