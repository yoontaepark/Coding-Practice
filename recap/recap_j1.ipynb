{
 "cells": [
  {
   "cell_type": "code",
   "execution_count": 13,
   "id": "64a9cad4",
   "metadata": {},
   "outputs": [
    {
     "name": "stdout",
     "output_type": "stream",
     "text": [
      "name, age, color, country\n",
      "Yoon, 24, red, usd\n",
      "Kim, 38, blue, russia\n",
      "Jung, 99, purple, turkey\n",
      "['name', 'age', 'color', 'country']\n",
      "[['Yoon', '24', 'red', 'usd'], ['Kim', '38', 'blue', 'russia'], ['Jung', '99', 'purple', 'turkey']]\n"
     ]
    }
   ],
   "source": [
    "# j사 1번 문제풀이\n",
    "# 컬럼라인, 데이터라인을 입력받아서, 데이터라인중에 age의 max, min, avg, std 을 구하라\n",
    "\n",
    "# firstly, make a column variable for first line input\n",
    "columns = list(input().split(', '))\n",
    "\n",
    "# for the rest, make a blank list, and append lines by iteration\n",
    "# also split by ', ' to just get values for each lines\n",
    "list1 = []\n",
    "n = 3\n",
    "for _ in range(n):\n",
    "    list1.append(input().split(', '))\n",
    "        \n",
    "print(columns)\n",
    "print(list1)\n"
   ]
  },
  {
   "cell_type": "code",
   "execution_count": 14,
   "id": "1e4aaa14",
   "metadata": {},
   "outputs": [],
   "source": [
    "# make a dataframe by using pandas \n",
    "import numpy as np\n",
    "import pandas as pd\n",
    "\n",
    "sol_df = pd.DataFrame(list1, columns=columns)"
   ]
  },
  {
   "cell_type": "code",
   "execution_count": 15,
   "id": "9bfa97f6",
   "metadata": {},
   "outputs": [
    {
     "data": {
      "text/html": [
       "<div>\n",
       "<style scoped>\n",
       "    .dataframe tbody tr th:only-of-type {\n",
       "        vertical-align: middle;\n",
       "    }\n",
       "\n",
       "    .dataframe tbody tr th {\n",
       "        vertical-align: top;\n",
       "    }\n",
       "\n",
       "    .dataframe thead th {\n",
       "        text-align: right;\n",
       "    }\n",
       "</style>\n",
       "<table border=\"1\" class=\"dataframe\">\n",
       "  <thead>\n",
       "    <tr style=\"text-align: right;\">\n",
       "      <th></th>\n",
       "      <th>name</th>\n",
       "      <th>age</th>\n",
       "      <th>color</th>\n",
       "      <th>country</th>\n",
       "    </tr>\n",
       "  </thead>\n",
       "  <tbody>\n",
       "    <tr>\n",
       "      <th>0</th>\n",
       "      <td>Yoon</td>\n",
       "      <td>24</td>\n",
       "      <td>red</td>\n",
       "      <td>usd</td>\n",
       "    </tr>\n",
       "    <tr>\n",
       "      <th>1</th>\n",
       "      <td>Kim</td>\n",
       "      <td>38</td>\n",
       "      <td>blue</td>\n",
       "      <td>russia</td>\n",
       "    </tr>\n",
       "    <tr>\n",
       "      <th>2</th>\n",
       "      <td>Jung</td>\n",
       "      <td>99</td>\n",
       "      <td>purple</td>\n",
       "      <td>turkey</td>\n",
       "    </tr>\n",
       "  </tbody>\n",
       "</table>\n",
       "</div>"
      ],
      "text/plain": [
       "   name age   color country\n",
       "0  Yoon  24     red     usd\n",
       "1   Kim  38    blue  russia\n",
       "2  Jung  99  purple  turkey"
      ]
     },
     "execution_count": 15,
     "metadata": {},
     "output_type": "execute_result"
    }
   ],
   "source": [
    "sol_df.head(3)"
   ]
  },
  {
   "cell_type": "code",
   "execution_count": 16,
   "id": "bc58e7c0",
   "metadata": {},
   "outputs": [
    {
     "data": {
      "text/plain": [
       "Index(['name', 'age', 'color', 'country'], dtype='object')"
      ]
     },
     "execution_count": 16,
     "metadata": {},
     "output_type": "execute_result"
    }
   ],
   "source": [
    "# all columns are object type, so create a new 'age' column with int type\n",
    "sol_df.columns"
   ]
  },
  {
   "cell_type": "code",
   "execution_count": 43,
   "id": "d736ee3f",
   "metadata": {},
   "outputs": [],
   "source": [
    "# create a new int object 'age' column and name as 'age_int'\n",
    "sol_df['age_int'] = sol_df['age'].astype(int)"
   ]
  },
  {
   "cell_type": "code",
   "execution_count": 44,
   "id": "503439d1",
   "metadata": {},
   "outputs": [
    {
     "data": {
      "text/html": [
       "<div>\n",
       "<style scoped>\n",
       "    .dataframe tbody tr th:only-of-type {\n",
       "        vertical-align: middle;\n",
       "    }\n",
       "\n",
       "    .dataframe tbody tr th {\n",
       "        vertical-align: top;\n",
       "    }\n",
       "\n",
       "    .dataframe thead th {\n",
       "        text-align: right;\n",
       "    }\n",
       "</style>\n",
       "<table border=\"1\" class=\"dataframe\">\n",
       "  <thead>\n",
       "    <tr style=\"text-align: right;\">\n",
       "      <th></th>\n",
       "      <th>name</th>\n",
       "      <th>age</th>\n",
       "      <th>color</th>\n",
       "      <th>country</th>\n",
       "      <th>age_int</th>\n",
       "    </tr>\n",
       "  </thead>\n",
       "  <tbody>\n",
       "    <tr>\n",
       "      <th>0</th>\n",
       "      <td>Yoon</td>\n",
       "      <td>24</td>\n",
       "      <td>red</td>\n",
       "      <td>usd</td>\n",
       "      <td>24</td>\n",
       "    </tr>\n",
       "    <tr>\n",
       "      <th>1</th>\n",
       "      <td>Kim</td>\n",
       "      <td>38</td>\n",
       "      <td>blue</td>\n",
       "      <td>russia</td>\n",
       "      <td>38</td>\n",
       "    </tr>\n",
       "    <tr>\n",
       "      <th>2</th>\n",
       "      <td>Jung</td>\n",
       "      <td>99</td>\n",
       "      <td>purple</td>\n",
       "      <td>turkey</td>\n",
       "      <td>99</td>\n",
       "    </tr>\n",
       "  </tbody>\n",
       "</table>\n",
       "</div>"
      ],
      "text/plain": [
       "   name age   color country  age_int\n",
       "0  Yoon  24     red     usd       24\n",
       "1   Kim  38    blue  russia       38\n",
       "2  Jung  99  purple  turkey       99"
      ]
     },
     "execution_count": 44,
     "metadata": {},
     "output_type": "execute_result"
    }
   ],
   "source": [
    "sol_df.head(3)"
   ]
  },
  {
   "cell_type": "code",
   "execution_count": 47,
   "id": "a3d54e7d",
   "metadata": {},
   "outputs": [
    {
     "name": "stdout",
     "output_type": "stream",
     "text": [
      "24\n",
      "99\n",
      "53.6667\n",
      "32.5611\n"
     ]
    }
   ],
   "source": [
    "# use numpy function to print answers\n",
    "print(np.min(sol_df['age_int']))\n",
    "print(np.max(sol_df['age_int']))\n",
    "print(np.round(np.mean(sol_df['age_int']),4))\n",
    "print(np.round(np.std(sol_df['age_int']),4))"
   ]
  }
 ],
 "metadata": {
  "kernelspec": {
   "display_name": "Python 3",
   "language": "python",
   "name": "python3"
  },
  "language_info": {
   "codemirror_mode": {
    "name": "ipython",
    "version": 3
   },
   "file_extension": ".py",
   "mimetype": "text/x-python",
   "name": "python",
   "nbconvert_exporter": "python",
   "pygments_lexer": "ipython3",
   "version": "3.8.8"
  }
 },
 "nbformat": 4,
 "nbformat_minor": 5
}
