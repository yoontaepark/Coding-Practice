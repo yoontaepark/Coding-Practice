{
  "nbformat": 4,
  "nbformat_minor": 0,
  "metadata": {
    "colab": {
      "name": "박윤태_ - [코딩+알고리즘] 2주차_과제.ipynb",
      "provenance": [],
      "collapsed_sections": [],
      "include_colab_link": true
    },
    "kernelspec": {
      "display_name": "Python 3",
      "language": "python",
      "name": "python3"
    },
    "language_info": {
      "codemirror_mode": {
        "name": "ipython",
        "version": 3
      },
      "file_extension": ".py",
      "mimetype": "text/x-python",
      "name": "python",
      "nbconvert_exporter": "python",
      "pygments_lexer": "ipython3",
      "version": "3.8.5"
    }
  },
  "cells": [
    {
      "cell_type": "markdown",
      "metadata": {
        "id": "view-in-github",
        "colab_type": "text"
      },
      "source": [
        "<a href=\"https://colab.research.google.com/github/yoontaepark/Coding-Practice/blob/main/%EB%B0%95%EC%9C%A4%ED%83%9C__%5B%E1%84%8F%E1%85%A9%E1%84%83%E1%85%B5%E1%86%BC%2B%E1%84%8B%E1%85%A1%E1%86%AF%E1%84%80%E1%85%A9%E1%84%85%E1%85%B5%E1%84%8C%E1%85%B3%E1%86%B7%5D_2%E1%84%8C%E1%85%AE%E1%84%8E%E1%85%A1_%E1%84%80%E1%85%AA%E1%84%8C%E1%85%A6.ipynb\" target=\"_parent\"><img src=\"https://colab.research.google.com/assets/colab-badge.svg\" alt=\"Open In Colab\"/></a>"
      ]
    },
    {
      "cell_type": "markdown",
      "metadata": {
        "id": "wS0WJ3F9SoRp"
      },
      "source": [
        "# 2주차 과제 공지사항\n",
        "\n",
        "----\n",
        "\n",
        "1. 아래의 과제를 보고 코드를 작성하시면 됩니다.\n",
        "2. 멘토님께서 과제에 대한 코드를 실행한 후에 정량적/정성적으로 평가가 됩니다.\n",
        "3. 멘토님께서는 과제평가에 대한 체크리스트를 작성한 뒤에 객관적으로 코드에 대한 평가를 할 예정입니다.\n",
        "4. 과제에 대한 점수는 100점 만점으로 진행이 됩니다.\n",
        "5. 퀴즈 및 과제에 대한 평가는 모든 수강생들의 평가가 완료되면 확인할 수 있습니다. 참고부탁드립니다.\n",
        "6. 퀴즈 및 과제기한은 일요일 저녁 10시 까지 입니다. 10시 이후에는 코드작성이 불가하오니 이 점 참고부탁드립니다.\n",
        "7. 미션통과 대상자의 경우, 평균 3주차 말 / 4주차 초에 미션환급액이 입금이 될 예정입니다. 참고부탁드립니다.\n",
        "8. 반드시 코드 작성란에만 코드를 작성하시고, 그 외에는 절대로 내용을 수정하지 마세요.\n",
        "9. 작성란에 작성된 코드가 동작하는지 반드시 확인하세요. 코드가 동작하지 않으면 0점처리됩니다.\n",
        "10. 과제의 채점 시 입력은 달라질 수 있습니다. 다른 입력에도 동작할 수 있는 코드를 작성해 주세요.\n",
        "11. ***예시 입출력이 주어진 경우, 최소한 예시 입력에 대해 출력이 정상적으로 이루어져야 점수가 주어집니다. 예시 입력에 대해 동작시키는 것은 과제 제출의 최소 조건입니다.***\n",
        "12. ***예시 입력에 대해 출력이 정상적으로 되더라도, 코드의 내용이 적합하지 않은 경우 감점이 이루어집니다.***\n",
        "\n",
        "----"
      ]
    },
    {
      "cell_type": "markdown",
      "metadata": {
        "id": "O4MMgk1OTzmH"
      },
      "source": [
        "----\n",
        "\n",
        "## 종합 점수 (/100)\n",
        "\n",
        "----"
      ]
    },
    {
      "cell_type": "markdown",
      "metadata": {
        "id": "JoFcF8ljTR6p"
      },
      "source": [
        "## 과제1.\n",
        "\n",
        "----\n",
        "\n",
        "다음과 같이 작성된 csv 파일을 읽고, 읽어들인 모든 값을 더해서 출력하는 파이썬 프로그램을 작성하시오. csv파일의 위치는 실행 위치와 동일하다고 가정한다(`a.csv`). (단, csv 파일의 내용은 달라질 수 있으며, 자료의 개수는 10000개 이하이다.)\n",
        "\n",
        "- a.csv에 작성된 내용\n",
        "```\n",
        "10,60,20,33,55,25,64,83,523,54,87,84,56,84\n",
        "```\n",
        "\n",
        "- 출력 내용\n",
        "```\n",
        "1238\n",
        "```\n",
        "\n",
        "----"
      ]
    },
    {
      "cell_type": "code",
      "metadata": {
        "id": "MpNgU-Ftq8Oh",
        "colab": {
          "base_uri": "https://localhost:8080/",
          "height": 244
        },
        "outputId": "a6f5636f-108b-4d2d-f2bf-a4f0a59aede6"
      },
      "source": [
        "# 과제1번 코드란\n",
        "import csv\n",
        "\n",
        "score = []\n",
        "with open('./a.csv', 'r') as f:\n",
        "    reader = csv.reader(f)\n",
        "\n",
        "    for n in reader:\n",
        "        for i in n:\n",
        "            score.append(int(i))\n",
        "        print(sum(score))\n"
      ],
      "execution_count": null,
      "outputs": [
        {
          "output_type": "error",
          "ename": "FileNotFoundError",
          "evalue": "ignored",
          "traceback": [
            "\u001b[0;31m---------------------------------------------------------------------------\u001b[0m",
            "\u001b[0;31mFileNotFoundError\u001b[0m                         Traceback (most recent call last)",
            "\u001b[0;32m<ipython-input-1-c7d49c02ecaf>\u001b[0m in \u001b[0;36m<module>\u001b[0;34m()\u001b[0m\n\u001b[1;32m      3\u001b[0m \u001b[0;34m\u001b[0m\u001b[0m\n\u001b[1;32m      4\u001b[0m \u001b[0mscore\u001b[0m \u001b[0;34m=\u001b[0m \u001b[0;34m[\u001b[0m\u001b[0;34m]\u001b[0m\u001b[0;34m\u001b[0m\u001b[0;34m\u001b[0m\u001b[0m\n\u001b[0;32m----> 5\u001b[0;31m \u001b[0;32mwith\u001b[0m \u001b[0mopen\u001b[0m\u001b[0;34m(\u001b[0m\u001b[0;34m'./a.csv'\u001b[0m\u001b[0;34m,\u001b[0m \u001b[0;34m'r'\u001b[0m\u001b[0;34m)\u001b[0m \u001b[0;32mas\u001b[0m \u001b[0mf\u001b[0m\u001b[0;34m:\u001b[0m\u001b[0;34m\u001b[0m\u001b[0;34m\u001b[0m\u001b[0m\n\u001b[0m\u001b[1;32m      6\u001b[0m     \u001b[0mreader\u001b[0m \u001b[0;34m=\u001b[0m \u001b[0mcsv\u001b[0m\u001b[0;34m.\u001b[0m\u001b[0mreader\u001b[0m\u001b[0;34m(\u001b[0m\u001b[0mf\u001b[0m\u001b[0;34m)\u001b[0m\u001b[0;34m\u001b[0m\u001b[0;34m\u001b[0m\u001b[0m\n\u001b[1;32m      7\u001b[0m \u001b[0;34m\u001b[0m\u001b[0m\n",
            "\u001b[0;31mFileNotFoundError\u001b[0m: [Errno 2] No such file or directory: './a.csv'"
          ]
        }
      ]
    },
    {
      "cell_type": "markdown",
      "metadata": {
        "id": "jmayiflbYYW6"
      },
      "source": [
        "## 과제2.\n",
        "\n",
        "----\n",
        "\n",
        "아래 기반 코드를 완성하여, 입력받은 값 중 중앙값을 출력하는 클래스를 완성하시오. 입력받은 값이 짝수개이면, 중앙값 2개의 평균을 출력하시오. (단, clear 메소드는 입력받은 내역을 모두 삭제)\n",
        "\n",
        "```python\n",
        "class Median:\n",
        "    def __init__(self):\n",
        "        pass\n",
        "\n",
        "    def get_item(self, item):\n",
        "        pass\n",
        "\n",
        "    def clear(self):\n",
        "        pass\n",
        "\n",
        "    def show_result(self):\n",
        "        pass\n",
        "\n",
        "median= Median()\n",
        "for x in range(10):\n",
        "    median.get_item(x)\n",
        "median.show_result()\n",
        "\n",
        "median.clear()\n",
        "for x in [0.5, 6.2, -0.4, 9.6, 0.4]:\n",
        "    median.get_item(x)\n",
        "median.show_result()\n",
        "```\n",
        "\n",
        "- 출력\n",
        "\n",
        "  ```\n",
        "  4.5\n",
        "  0.5\n",
        "  ```\n",
        "\n",
        "----"
      ]
    },
    {
      "cell_type": "code",
      "metadata": {
        "id": "bmA6c6EMYY7o",
        "colab": {
          "base_uri": "https://localhost:8080/"
        },
        "outputId": "73db0148-59f0-48bd-d77e-c0638ed73f3b"
      },
      "source": [
        "# 과제 2번 코드란\n",
        "\n",
        "numlist =[]\n",
        "class Median:\n",
        "    def __init__(self):\n",
        "        pass\n",
        " \n",
        "    def get_item(self, item):\n",
        "        numlist.append(item)\n",
        "        numlist.sort()\n",
        " \n",
        "    def clear(self):\n",
        "        numlist.clear()\n",
        " \n",
        "    def show_result(self):\n",
        "        if len(numlist) % 2 == 1:\n",
        "            print (numlist[int(len(numlist)/2)])\n",
        "        else:\n",
        "            print ((numlist[int(len(numlist)/2)-1] + numlist[int(len(numlist)/2)]) / 2.0)\n",
        "\n",
        " \n",
        "median = Median()\n",
        "for x in range(10):\n",
        "    median.get_item(x)\n",
        "\n",
        "median.show_result()\n",
        " \n",
        "median.clear()\n",
        "for x in [0.5, 6.2, -0.4, 9.6, 0.4]:\n",
        "    median.get_item(x)\n",
        "median.show_result()\n"
      ],
      "execution_count": null,
      "outputs": [
        {
          "output_type": "stream",
          "text": [
            "4.5\n",
            "0.5\n"
          ],
          "name": "stdout"
        }
      ]
    },
    {
      "cell_type": "markdown",
      "metadata": {
        "id": "fzlpa3FVZpcL"
      },
      "source": [
        "## 과제3.\n",
        "\n",
        "----\n",
        "\n",
        "아래 기반 코드를 완성하여, 주어진 출력을 하는 클래스를 구현하시오. 단, Animal 클래스는 수정하지 않고 구현하시오. 최소한의 메소드만을 추가하여 구현하시오. 하나의 메소드는 하나의 line만을 출력하시오.\n",
        "\n",
        "```python\n",
        "class Animal:\n",
        "    def __init__(self, name):\n",
        "        self.name = name\n",
        "\n",
        "    def speak(self):\n",
        "        print(self.name + ' cannot speak.')\n",
        "\n",
        "    def move(self):\n",
        "        print(self.name + ' cannot move.')\n",
        "\n",
        "\n",
        "class Dog(Animal):\n",
        "    pass\n",
        "\n",
        "\n",
        "class Retriever(Dog):\n",
        "    pass\n",
        "\n",
        "\n",
        "dog = Dog('Nancy')\n",
        "dog.speak()\n",
        "dog.move()\n",
        "\n",
        "super_dog = Retriever('Michael')\n",
        "super_dog.speak()\n",
        "super_dog.move()\n",
        "```\n",
        "\n",
        "- 출력\n",
        "\n",
        "  ```\n",
        "  Nancy cannot speak.\n",
        "  Nancy moves like a jagger.\n",
        "  Michael is smart enough to speak.\n",
        "  Michael moves like a jagger.\n",
        "  ```\n",
        "\n",
        "----"
      ]
    },
    {
      "cell_type": "code",
      "metadata": {
        "id": "pWDpwtNqaPLN",
        "colab": {
          "base_uri": "https://localhost:8080/"
        },
        "outputId": "cee06697-3086-4c2c-d6d4-605de33c20e0"
      },
      "source": [
        "# 과제 3번 코드란\n",
        "class Animal:\n",
        "    def __init__(self, name):\n",
        "        self.name = name\n",
        " \n",
        "    def speak(self):\n",
        "        print(self.name + ' cannot speak.')\n",
        " \n",
        "    def move(self):\n",
        "        print(self.name + ' cannot move.')\n",
        " \n",
        " \n",
        "class Dog(Animal):\n",
        "    def move(self):\n",
        "        print(self.name + ' moves like a jagger.')\n",
        " \n",
        " \n",
        "class Retriever(Dog):    \n",
        "    def speak(self):\n",
        "        print(self.name + ' is smart enough to speak.')\n",
        " \n",
        " \n",
        "dog = Dog('Nancy')\n",
        "dog.speak()\n",
        "dog.move()\n",
        " \n",
        "super_dog = Retriever('Michael')\n",
        "super_dog.speak()\n",
        "super_dog.move()"
      ],
      "execution_count": null,
      "outputs": [
        {
          "output_type": "stream",
          "text": [
            "Nancy cannot speak.\n",
            "Nancy moves like a jagger.\n",
            "Michael is smart enough to speak.\n",
            "Michael moves like a jagger.\n"
          ],
          "name": "stdout"
        }
      ]
    },
    {
      "cell_type": "markdown",
      "metadata": {
        "id": "pVygrfyBZ-mf"
      },
      "source": [
        "## 과제4.\n",
        "\n",
        "----\n",
        "\n",
        "아래 기반 코드를 완성하여, 주어진 출력을 하는 클래스를 구현하시오. 기반 코드에 제시된 대로 print문 하나당 문자 하나씩만 출력하시오.\n",
        "\n",
        "```python\n",
        "class Foo:\n",
        "    pass\n",
        "\n",
        "print(Foo.bar)       # A 출력\n",
        "print(Foo().bar)     # B 출력\n",
        "print(Foo.Bar.bar)   # C 출력\n",
        "print(Foo.Bar().bar) # D 출력\n",
        "```\n",
        "\n",
        "- 출력\n",
        "\n",
        "  ```\n",
        "  A\n",
        "  B\n",
        "  C\n",
        "  D\n",
        "  ```\n",
        "\n",
        "----"
      ]
    },
    {
      "cell_type": "code",
      "metadata": {
        "id": "kwYofIu2Z-3e",
        "colab": {
          "base_uri": "https://localhost:8080/"
        },
        "outputId": "52252e0f-7f83-447a-de96-3752457278e5"
      },
      "source": [
        "# 과제 4번 코드란\n",
        "class Foo:\n",
        "    bar = 'A'\n",
        "\n",
        "    def __init__(self):\n",
        "        self.bar='B'\n",
        "\n",
        "    class Bar():\n",
        "        bar = 'C'\n",
        "        \n",
        "        def __init__(self):\n",
        "            self.bar='D'\n",
        "\n",
        " \n",
        "print(Foo.bar)       # A 출력\n",
        "print(Foo().bar)     # B 출력\n",
        "print(Foo.Bar.bar)   # C 출력\n",
        "print(Foo.Bar().bar) # D 출력"
      ],
      "execution_count": null,
      "outputs": [
        {
          "output_type": "stream",
          "text": [
            "A\n",
            "B\n",
            "C\n",
            "D\n"
          ],
          "name": "stdout"
        }
      ]
    },
    {
      "cell_type": "markdown",
      "metadata": {
        "id": "kmzckUxxfWkw"
      },
      "source": [
        "----\n",
        "\n",
        "**수고하셨습니다!**\n",
        "\n",
        "----"
      ]
    },
    {
      "cell_type": "markdown",
      "metadata": {
        "id": "tgKiGrOIaU-t"
      },
      "source": [
        "## 과제 피드백 작성란\n",
        "\n",
        "----\n",
        "\n",
        "### 과제1\n",
        "\n",
        "### 과제2\n",
        "\n",
        "### 과제3\n",
        "\n",
        "### 과제4"
      ]
    }
  ]
}
